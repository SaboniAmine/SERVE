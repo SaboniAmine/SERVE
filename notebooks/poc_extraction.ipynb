{
 "cells": [
  {
   "cell_type": "code",
   "execution_count": 1,
   "id": "9640d479-535a-423b-9e9d-bf305025466c",
   "metadata": {
    "pycharm": {
     "name": "#%%\n"
    }
   },
   "outputs": [],
   "source": [
    "import pandas as pd\n",
    "import re\n",
    "import requests\n",
    "import xmltodict\n",
    "from fuzzywuzzy import process"
   ]
  },
  {
   "cell_type": "code",
   "execution_count": 2,
   "id": "ab437617-955e-4556-b3e6-85e0ad57940a",
   "metadata": {
    "pycharm": {
     "name": "#%%\n"
    }
   },
   "outputs": [],
   "source": [
    "path = \"data/rollcallvote.pdf\""
   ]
  },
  {
   "cell_type": "code",
   "execution_count": 3,
   "id": "3884a357-7a44-4a0a-b48d-24f0dfc8b60e",
   "metadata": {
    "pycharm": {
     "name": "#%%\n"
    }
   },
   "outputs": [],
   "source": [
    "from PyPDF2 import PdfReader\n",
    "\n",
    "\n",
    "# Ouvrir le fichier PDF\n",
    "with open(path, 'rb') as f:\n",
    "    # Create a PyPDF2 reader object\n",
    "    pdf = PdfReader(f)\n",
    "    \n",
    "    # Extract the text from the PDF\n",
    "    text = ''\n",
    "    for page in pdf.pages:\n",
    "        text += page.extract_text()"
   ]
  },
  {
   "cell_type": "code",
   "execution_count": 6,
   "id": "1c17d566-4661-4c0a-8e6a-047e60ca422e",
   "metadata": {
    "collapsed": true,
    "jupyter": {
     "outputs_hidden": true
    },
    "pycharm": {
     "name": "#%%\n"
    }
   },
   "outputs": [
    {
     "data": {
      "text/plain": [
       "\"P9_PV(2020)10-06(RCV)_FR.docx21PE 659.2027. A9-0170/2020 - Michal Šimečka - § 506/10/2020 12:40:24.939535+ECR: Bourgeois, Ďuriš Nicholsonová, Jurzyca, Kanko, Van OvertveldtGUE/NGL: Arvanitis, Aubry, Barrena Arza, Björk, Bompard, Chaibi, Daly, Demirel, Ernst, Georgoulis, Gusmão, Hazekamp, Kizilyürek, Kokkalis, Kouloglou, Kountoura, MacManus, Matias, Maurel, Michels, Modig, Omarjee, Papadimoulis, Pelletier, Pineda, Rego, Rodríguez Palop, Schirdewan, Scholz, Urbán Crespo, Villanueva Ruiz, Villumsen, WallaceID: KofodNI: Adinolfi Isabella, Beghin, Buschmann, Castaldo, Comín i Oliveres, Corrao, D'Amato, Evi, Ferrara, Furore, Gemma, Giarrusso, Gyöngyösi, Konstantinou, Pedicini, Pignedoli, Ponsatí Obiols, Puigdemont i Casamajó, Rondinelli, Rookmaker, Sonneborn, ZulloPPE: Adamowicz, Ademov, Alexandrov Yordanov, Amaro, Arias Echeverría, Arimont, Arłukowicz, Asimakopoulou, Băsescu, Bellamy, Benjumea Benjumea, Bentele, Berendsen, Berger, Bernhuber, Bilčík, Blaga, Bogdan, Bogovič, Buda, Buşoi, Buzek, Carvalho, Casa, Caspary, del Castillo Vera, Christoforou, Clune, Colin-Oesterlé, van Dalen, Danjean, De Meo, Didier, Doleschal, Dorfmann, Duda, Düpont, Ehler, Estaràs Ferragut, Evren, Falcă, Ferber, Fernandes, Fitzgerald, Fourlas, Frankowski, Franssen, Gahler, García-Margallo y Marfil, Gieseke, Glavak, González Pons, Halicki, Hansen, Hava, Herbst, Hetman, Hohlmeier, Hortefeux, Hübner, Jahr, Jarubas, Juknevičienė, Kalinowski, Kalniete, Kanev, Karas, Kefalogiannis, Kelly, Kokalari, Kopacz, Kovatchev, Kubilius, Kympouropoulos, Kyrtsos, de Lange, Lega, Lenaers, Lewandowski, Lexmann, Liese, Lins, López Gil, López-Istúriz White, Łukacijewska, Lutgen, McAllister, Maldeikienė, Manders, Mandl, Marinescu, Martusciello, Mato, Maydell, Mažylis, Meimarakis, Melo, Metsola, Milazzo, Millán Mon, Monteiro de Aguiar, Montserrat, Morano, Mortler, Motreanu, Mureşan, Niebler, Niedermayer, Nistor, Novak, Novakov, Ochojska, Olbrycht, Patriciello, Peeters, Pereira Lídia, Pieper, Pietikäinen, Polčák, Polfjärd, Pollák, Pospíšil, Radev, Radtke, Rangel, Ressler, Sagartz, Salini, Sander, Sarvamaa, Schmiedtbauer, Schneider, Schreijer-Pierik, Schulze, Schwab, Seekatz, Sikorski, Simon, Skyttedal, Šojdrová, Sokol, Spyraki, Štefanec, Tajani, Thaler, Thun und Hohenstein, Tobé, Tomac, Vaidere, Verheyen, Vincze, Virkkunen, Voss, Vozemberg-Vrionidi, Walsh, Walsmann, Warborn, Weber, Weiss, Wieland, Wiezik, Winkler, Winzig, Wiseler-Lima, Zagorakis, Zarzalejos, Zdechovský, Zoido Álvarez, ZovkoRenew: Alieva-Veli, Al-Sahlani, Andrews, Ansip, Armand, Auštrevičius, Azmani, Bauzá Díaz, Beer, Bijoux, Bilbao Barandica, Botoş, Boyer, Brunet, Cañas, Canfin, Chabaud, Charanzová, Chastel, Christensen, Cicurel, Cioloş, Cseh, Danti, Decerle, Dlabajová, Donáth, Durand, Eroglu, Farreng, Federley, Flego, Gamon, Garicano, Ghinea, Glück, Goerens, Gozi, Groothuis, Grošelj, Grudler, Guetta, Hahn Svenja, Hayer, Hlaváček, Hojsík, Huitema, Ijabs, in 't Veld, Joveva, Karleskind, Karlsbro, Katainen, Kelleher, Keller Fabienne, Knotek, Körner, Kovařík, Kyuchyuk, Loiseau, Løkkegaard, Maxová, Melchior, Mihaylova, Müller, Nagtegaal, Nart, Oetjen, Paet, Pagazaurtundúa, Pekkarinen, Petersen, Pîslaru, Rafaela, Ries, Riquet, Rodríguez Ramos, Schreinemacher, Séjourné, Semedo, Šimečka, Solís Pérez, Ştefănuță, Strugariu, Søgaard-Lidell, Tolleret, Toom, Torvalds, Trillet-Lenoir, Tudorache, Vautmans, Vedrenne, Verhofstadt, Vázquez Lázara, Yon-Courtin, ZacharopoulouS&D: Agius Saliba, Aguilera, Ameriks, Andrieu, Androulakis, Angel, Ara-Kovács, Arena, Avram, Balt, Barley, Bartolo, Belka, Benea, Benifei, Beňová, Bergkvist, Biedroń, Bischoff, Blinkevičiūtė, Bonafè, Borzan, Brglez, Bullmann, Burkhardt, Calenda, Carvalhais, Cerdas, Chahim, Chinnici, Cimoszewicz, Ciuhodaru, Číž, Cozzolino, Crețu, Cutajar, Dalli, Danielsson, De Castro, Dobrev, Durá Ferrandis, Ertug, Fajon, Fernández, Ferrandino, Fritzon, Fuglsang, Gálvez Muñoz, García Del Blanco, García Muñoz, García Pérez, Gardiazabal Rubial, Gebhardt, Geier, Glucksmann, González, González Casares, Grapini, Gualmini, Guillaume, Guteland, Hajšel, Heide, Heinäluoma, Homs Ginel, Hristov, Incir, Jerković, Jongerius, Kaili, Kaljurand, Kammerevert, Kohut, Köster, Krehl, Kumpula-Natri, Lalucq, Lange, Larrouturou, Leitão-Marques, Liberadzki, López, López Aguilar, Luena, Maestre Martín De Almagro, Majorino, Maldonado López, Marques Margarida, Marques Pedro, Matić, Mavrides, Mebarek, Mikser, Miller, Molnár, Moreno Sánchez, Moretti, Negrescu, Neuser, Nica, Noichl, Olekas, Papadakis Demetris, Penkova, Picierno, Picula, Piri, Pisapia, Pizarro, Plumb, Regner, Roberti, Rodríguez-Piñero, Rónai, Ros Sempere, Ruiz Devesa, Sánchez Amor, Sant, Santos, Schaldemose, Schieder, Schuster, Sidl, Silva Pereira, Sippel, Smeriglio, Stanishev, Tang, Tarabella, Tax, Tinagli, Toia, Tudose, Ujhelyi, Ušakovs, Van Brempt, Vind, Vitanov, Vollath, Wölken, Wolters, Yoncheva, ZorrinhoVerts/ALE: Alametsä, Alfonsi, Andresen, Biteau, Bloss, Boeselager, Breyer, Bricmont, Bütikofer, Carême, Cavazzini, Cormand, Cuffe, Dalunde, Delbos-Corfield, Delli, Deparnay-Grunenberg, Franz, Freund, Geese, Giegold, Gregorová, Gruffat, Guerreiro, Hahn Henrike, Häusling, Hautala, Herzberger-Fofana, Holmgren, Jadot, Jakeliūnas, Keller Ska, Kolaja, Kuhnke, Lagodinsky, Lamberts, Langensiepen, Marquardt, Metz, Neumann, Nienaß, Niinistö, O'Sullivan, Paulus, Peksa, Peter-Hansen, Reintke, Riba i Giner, Ripa, Rivasi, Roose, Ropė, Satouri, Semsrott, Solé, Spurek, Strik, Toussaint, Urtasun, Vana, Van Sparrentak, Von Cramon-Taubadel, Waitz, Wiener, Yenbou, Ždanoka147-P9_PV(2020)10-06(RCV)_FR.docx22PE 659.202ECR: Aguilar, Berlato, Bielan, Brudziński, Buxadé Villalba, Czarnecki, de la Pisa Carrión, Dzhambazki, Eppink, Fidanza, Fiocchi, Fitto, Fotyga, Fragkos, Jaki, Jurgiel, Karski, Kempa, Kloc, Kopcińska, Krasnodębski, Kruk, Kuźmiuk, Legutko, Lundgren, Mazurek, Melbārde, Możdżanowska, Poręba, Procaccini, Rafalska, Rooken, Roos, Ruissen, Rzońca, Saryusz-Wolski, Slabakov, Stancanelli, Stegrud, Szydło, Tarczyński, Terheş, Tertsch, Tobiszowski, Tomaševski, Tomašić, Waszczykowski, Weimers, Wiśniewska, Zalewska, Zīle, ZłotowskiGUE/NGL: Ferreira, Pereira SandraID: Adinolfi Matteo, Anderson Christine, Androuët, Annemans, Baldassarre, Bardella, Basso, Bay, Beck, Beigneux, Berg, Bilde, Bizzotto, Blaško, Bonfrisco, Borchia, Bruna, Buchheit, Campomenosi, Caroppo, Casanova, Ceccardi, Ciocca, Collard, Conte, Da Re, David, Donato, Dreosto, Fest, Gancia, Garraud, de Graaff, Grant, Griset, Haider, Hakkarainen, Huhtasaari, Jalkh, Jamet, Joron, Juvin, Krah, Kuhs, Lacapelle, Lancini, Laporte, Lebreton, Lechanteux, Limmer, Lizzi, Madison, Mariani, Mayer, Mélin, Meuthen, Olivier, Panza, Pirbakas, Regimenti, Reil, Rinaldi, Rivière, Sardone, Sofo, Tardino, Tovaglieri, Vandendriessche, Vilimsky, Vuolo, Zambelli, Zanni, ZimniokNI: Lagos, Nikolaou-Alavanos, Papadakis Kostas, Radačovský, UhríkPPE: Bocskor, Deli, Deutsch, Gál, Győri, Gyürk, Hidvéghi, Hölvényi, Járóka, Kósa, Szájer, Tomc, Tóth, Trócsányi, Zver150ECR: Geuking, Tošenovský, Vondra, Vrecionová, ZahradilGUE/NGL: Botenga, Flanagan, Georgiou, KonečnáID: De ManNI:Kolakušić, SinčićPPE: TerrasRenew: Gade, Uspaskich\""
      ]
     },
     "execution_count": 6,
     "metadata": {},
     "output_type": "execute_result"
    }
   ],
   "source": [
    "text"
   ]
  },
  {
   "cell_type": "code",
   "execution_count": 4,
   "id": "696c1154-2e54-4b1d-a8c8-e322daf93ce3",
   "metadata": {
    "pycharm": {
     "name": "#%%\n"
    }
   },
   "outputs": [],
   "source": [
    "footer_regex = \".docx\\d{2}PE\\s\\d{1,3}\\.\\d{1,3}\"\n",
    "text_without_footer = re.split(footer_regex, text)[1]\n",
    "filter_prefix_regex = r\"\\d{2}:[\\d.:]+\"\n",
    "test_text = re.split(filter_prefix_regex, text_without_footer)[1]\n",
    "pattern_pour = r\"\\+([^\\d]+)\"\n",
    "matches_pour = re.findall(pattern_pour, test_text)[0]\n",
    "contre_text = re.split(matches_pour, text)[1]\n",
    "contre_text_without_footer = re.split(footer_regex, contre_text)[1]\n",
    "pattern_contre = r\"([^\\d]+)\"\n",
    "matches_contre = re.findall(pattern_contre, contre_text_without_footer)[0]\n",
    "abstention_text = re.split(matches_contre, text)[1]\n",
    "footer_regex = \".docx\\d{2}PE\\s\\d{1,3}\\.\\d{1,3}\"\n",
    "abstention_text_without_footer = re.split(footer_regex, abstention_text)[0]"
   ]
  },
  {
   "cell_type": "code",
   "execution_count": 5,
   "id": "45d881c4-09fb-4ee9-810f-d9a39b2b03f4",
   "metadata": {
    "pycharm": {
     "name": "#%%\n"
    }
   },
   "outputs": [],
   "source": [
    "partis_politiques = [\"ECR\", \"GUE/NGL\", \"ID\", \"NI\", \"PPE\", \"Renew\", \"S&D\", \"Verts/ALE\"]\n",
    "ecr_exclusions = r\"(?:GUE/NGL|ID|NI|PPE|Renew|S\\&D|Verts/ALE)\"\n",
    "gnu_ngl_exclusions = r\"(?:ID|NI|PPE|Renew|S\\&D|Verts/ALE)\"\n",
    "id_exclusions = r\"(?:NI|PPE|Renew|S\\&D|Verts/ALE)\"\n",
    "ni_exclusions = r\"(?:PPE|Renew|S\\&D|Verts/ALE)\"\n",
    "ppe_exclusions = r\"(?:Renew|S\\&D|Verts/ALE)\"\n",
    "renew_exclusions = r\"(?:S\\&D|Verts/ALE)\"\n",
    "sd_exclusions = r\"(?:Verts/ALE)\"\n",
    "votes_by_group = {\n",
    "    \"+\":{},\n",
    "    \"-\":{},\n",
    "    \"0\":{},\n",
    "}\n",
    "final_results = pd.DataFrame({\"fullName\":[], \"vote\":[], \"group\":[]})"
   ]
  },
  {
   "cell_type": "code",
   "execution_count": 503,
   "id": "0b7d82ea-c8ef-4581-b25d-15b24f5eda91",
   "metadata": {
    "scrolled": true,
    "pycharm": {
     "name": "#%%\n"
    }
   },
   "outputs": [],
   "source": [
    "matches_pour_ECR = re.split(ecr_exclusions, matches_pour)[0]\n",
    "ECR_POUR = re.sub( \"ECR:\", \"\",matches_pour_ECR).lstrip().split(\",\")\n",
    "final_results = format_name_and_vote(\"ECR\", ECR_POUR, \"+\", final_results)\n",
    "\n",
    "gnu_ngl_text = re.split(matches_pour_ECR, matches_pour)[-1]\n",
    "matches_pour_GNUNGL = re.split(gnu_ngl_exclusions, gnu_ngl_text)[0]\n",
    "GNUNGL_POUR = re.sub( \"GUE/NGL:\", \"\",matches_pour_GNUNGL).lstrip().split(\",\")\n",
    "final_results = format_name_and_vote(\"GUE/NGL\", GNUNGL_POUR, \"+\", final_results)\n",
    "\n",
    "id_text = re.split(matches_pour_GNUNGL, matches_pour)[-1]\n",
    "matches_pour_ID = re.split(id_exclusions, id_text)[0]\n",
    "ID_POUR = re.sub( \"ID:\", \"\",matches_pour_ID).lstrip().split(\",\")\n",
    "final_results = format_name_and_vote(\"ID\", ID_POUR, \"+\", final_results)\n",
    "\n",
    "ni_text = re.split(matches_pour_ID, matches_pour)[-1]\n",
    "matches_pour_NI = re.split(ni_exclusions, ni_text)[0]\n",
    "NI_POUR = re.sub( \"NI:\", \"\",matches_pour_NI).lstrip().split(\",\")\n",
    "final_results = format_name_and_vote(\"NI\", NI_POUR, \"+\", final_results)\n",
    "\n",
    "ppe_text = re.split(matches_pour_NI, matches_pour)[-1]\n",
    "matches_pour_PPE = re.split(ppe_exclusions, ppe_text)[0]\n",
    "PPE_POUR = re.sub( \"PPE:\", \"\",matches_pour_PPE).lstrip().split(\",\")\n",
    "final_results = format_name_and_vote(\"PPE\", PPE_POUR, \"+\", final_results)\n",
    "\n",
    "renew_text = re.split(matches_pour_PPE, matches_pour)[-1]\n",
    "matches_pour_Renew = re.split(renew_exclusions, renew_text)[0]\n",
    "Renew_POUR = re.sub( \"Renew:\", \"\",matches_pour_Renew).lstrip().split(\",\")\n",
    "final_results = format_name_and_vote(\"Renew\", Renew_POUR, \"+\", final_results)\n",
    "\n",
    "sd_text = re.split(matches_pour_Renew, matches_pour)[-1]\n",
    "matches_pour_sd = re.split(sd_exclusions, sd_text)[0]\n",
    "SD_POUR = re.sub( \"S&D:\", \"\",matches_pour_sd).lstrip().split(\",\")\n",
    "final_results = format_name_and_vote(\"S&D\", SD_POUR, \"+\", final_results)\n",
    "\n",
    "VertsALE_text = re.split(matches_pour_sd, matches_pour)[-1]\n",
    "VertsALE_POUR = re.sub( \"Verts/ALE:\", \"\",VertsALE_text).lstrip().split(\",\")\n",
    "final_results = format_name_and_vote(\"Verts/ALE\", VertsALE_POUR, \"+\", final_results)\n"
   ]
  },
  {
   "cell_type": "code",
   "execution_count": 504,
   "id": "44141ee2-6d50-49ae-b4fb-1f3ced7b1511",
   "metadata": {
    "scrolled": true,
    "pycharm": {
     "name": "#%%\n"
    }
   },
   "outputs": [],
   "source": [
    "matches_contre_ECR = re.split(ecr_exclusions, matches_contre)[0]\n",
    "ECR_CONTRE = re.sub( \"ECR:\", \"\",matches_contre_ECR.lstrip()).split(\",\")\n",
    "final_results = format_name_and_vote(\"ECR\", ECR_CONTRE, \"-\", final_results)\n",
    "\n",
    "gnu_ngl_text_contre = re.split(matches_contre_ECR, matches_contre)[-1]\n",
    "matches_contre_GNUNGL = re.split(gnu_ngl_exclusions, gnu_ngl_text_contre)[0]\n",
    "GNUNGL_CONTRE = re.sub( \"GUE/NGL:\", \"\",matches_contre_GNUNGL).lstrip().split(\",\")\n",
    "final_results = format_name_and_vote(\"GUE/NGL\", GNUNGL_CONTRE, \"-\", final_results)\n",
    "\n",
    "\n",
    "id_text_contre = re.split(matches_contre_GNUNGL, matches_contre)[-1]\n",
    "matches_contre_ID = re.split(id_exclusions, id_text_contre)[0]\n",
    "ID_CONTRE = re.sub( \"ID:\", \"\",matches_contre_ID).lstrip().split(\",\")\n",
    "final_results = format_name_and_vote(\"ID\", ID_CONTRE, \"-\", final_results)\n",
    "\n",
    "ni_text_contre = re.split(matches_contre_ID, matches_contre)[-1]\n",
    "matches_contre_NI = re.split(ni_exclusions, ni_text_contre)[0]\n",
    "NI_CONTRE = re.sub( \"NI:\", \"\",matches_contre_NI).lstrip().split(\",\")\n",
    "final_results = format_name_and_vote(\"NI\", NI_CONTRE, \"-\", final_results)\n",
    "\n",
    "ppe_text_contre = re.split(matches_contre_NI, matches_contre)[-1]\n",
    "matches_contre_PPE = re.split(ppe_exclusions, ppe_text_contre)[0]\n",
    "PPE_CONTRE = re.sub( \"PPE:\", \"\",matches_contre_PPE).lstrip().split(\",\")\n",
    "final_results = format_name_and_vote(\"PPE\", PPE_CONTRE, \"-\", final_results)\n",
    "\n",
    "renew_text_contre = re.split(matches_contre_PPE, matches_contre)[-1]\n",
    "matches_contre_Renew = re.split(renew_exclusions, renew_text_contre)[0]\n",
    "Renew_CONTRE = re.sub( \"Renew:\", \"\",matches_contre_Renew).lstrip().split(\",\")\n",
    "final_results = format_name_and_vote(\"Renew\", Renew_CONTRE, \"-\", final_results)\n",
    "\n",
    "sd_text_contre = re.split(matches_contre_Renew, matches_contre)[-1]\n",
    "matches_contre_sd = re.split(sd_exclusions, sd_text_contre)[0]\n",
    "SD_CONTRE = re.sub( \"S&D:\", \"\",matches_contre_sd).lstrip().split(\",\")\n",
    "final_results = format_name_and_vote(\"S&D\", SD_CONTRE, \"-\", final_results)\n",
    "\n",
    "\n",
    "VertsALE_text_contre = re.split(matches_contre_sd, matches_contre)[-1]\n",
    "VertsALE_CONTRE = re.sub( \"Verts/ALE:\", \"\",VertsALE_text_contre).lstrip().split(\",\")\n",
    "final_results = format_name_and_vote(\"Verts/ALE\", VertsALE_CONTRE, \"-\", final_results)\n"
   ]
  },
  {
   "cell_type": "code",
   "execution_count": 505,
   "id": "efdef1de-d9b6-4837-8014-6e9fda99b139",
   "metadata": {
    "scrolled": true,
    "pycharm": {
     "name": "#%%\n"
    }
   },
   "outputs": [],
   "source": [
    "matches_abstention_ECR = re.split(ecr_exclusions, abstention_text_without_footer)[0]\n",
    "ECR_ABS = re.sub( \"ECR:\", \"\",matches_contre_ECR).lstrip().split(\",\")\n",
    "final_results = format_name_and_vote(\"ECR\", ECR_ABS, \"0\", final_results)\n",
    "\n",
    "gnu_ngl_text_abs = re.split(matches_abstention_ECR, abstention_text_without_footer)[-1]\n",
    "matches_abs_GNUNGL = re.split(gnu_ngl_exclusions, gnu_ngl_text_abs)[0]\n",
    "GNUNGL_ABS = re.sub(\"GUE/NGL:\", \"\",matches_abs_GNUNGL).lstrip().split(\",\")\n",
    "final_results = format_name_and_vote(\"GUE/NGL\", GNUNGL_ABS, \"0\", final_results)\n",
    "\n",
    "id_text_abs = re.split(matches_abs_GNUNGL, abstention_text_without_footer)[-1]\n",
    "matches_abs_ID = re.split(id_exclusions, id_text_abs)[0]\n",
    "ID_ABS = re.sub(\"ID:\", \"\",matches_abs_ID).lstrip().split(\",\")\n",
    "final_results = format_name_and_vote(\"ID\", ID_ABS, \"0\", final_results)\n",
    "\n",
    "ni_text_abs = re.split(matches_abs_ID, abstention_text_without_footer)[-1]\n",
    "matches_abs_NI = re.split(ni_exclusions, ni_text_abs)[0]\n",
    "NI_ABS = re.sub(\"NI:\", \"\",matches_abs_NI).lstrip().split(\",\")\n",
    "final_results = format_name_and_vote(\"NI\", NI_ABS, \"0\", final_results)\n",
    "\n",
    "ppe_text_abs = re.split(matches_abs_NI, abstention_text_without_footer)[-1]\n",
    "matches_abs_PPE = re.split(ppe_exclusions, ppe_text_abs)[0]\n",
    "PPE_ABS = re.sub(\"PPE:\", \"\",matches_abs_PPE).lstrip().split(\",\")\n",
    "final_results = format_name_and_vote(\"PPE\", PPE_ABS, \"0\", final_results)\n",
    "\n",
    "renew_text_abs = re.split(matches_abs_PPE, abstention_text_without_footer)[-1]\n",
    "matches_abs_Renew = re.split(renew_exclusions, renew_text_abs)[0]\n",
    "Renew_ABS = re.sub(\"Renew:\", \"\",matches_abs_Renew).lstrip().split(\",\")\n",
    "final_results = format_name_and_vote(\"Renew\", Renew_ABS, \"0\", final_results)\n",
    "\n",
    "sd_text_abs = re.split(matches_abs_Renew, abstention_text_without_footer)[-1]\n",
    "matches_abs_sd = re.split(sd_exclusions, sd_text_abs)[0]\n",
    "SD_ABS = re.sub(\"S&D:\", \"\",matches_abs_sd).lstrip().split(\",\")\n",
    "final_results = format_name_and_vote(\"S&D\", SD_ABS, \"0\", final_results)\n",
    "\n",
    "VertsALE_text_abs = re.split(matches_abs_sd, abstention_text_without_footer)[-1]\n",
    "VertsALE_ABS = re.sub(\"Verts/ALE:\", \"\",VertsALE_text_contre).lstrip().split(\",\")\n",
    "final_results = format_name_and_vote(\"Verts/ALE\", VertsALE_ABS, \"0\", final_results)"
   ]
  },
  {
   "cell_type": "code",
   "execution_count": 506,
   "id": "d6e2de13-1217-48f0-8e7a-c6c61e5e0817",
   "metadata": {
    "pycharm": {
     "name": "#%%\n"
    }
   },
   "outputs": [
    {
     "data": {
      "text/html": [
       "<div>\n",
       "<style scoped>\n",
       "    .dataframe tbody tr th:only-of-type {\n",
       "        vertical-align: middle;\n",
       "    }\n",
       "\n",
       "    .dataframe tbody tr th {\n",
       "        vertical-align: top;\n",
       "    }\n",
       "\n",
       "    .dataframe thead th {\n",
       "        text-align: right;\n",
       "    }\n",
       "</style>\n",
       "<table border=\"1\" class=\"dataframe\">\n",
       "  <thead>\n",
       "    <tr style=\"text-align: right;\">\n",
       "      <th></th>\n",
       "      <th>fullName</th>\n",
       "      <th>vote</th>\n",
       "      <th>group</th>\n",
       "    </tr>\n",
       "  </thead>\n",
       "  <tbody>\n",
       "    <tr>\n",
       "      <th>0</th>\n",
       "      <td>Geert BOURGEOIS</td>\n",
       "      <td>+</td>\n",
       "      <td>ECR</td>\n",
       "    </tr>\n",
       "    <tr>\n",
       "      <th>1</th>\n",
       "      <td>Lucia ĎURIŠ NICHOLSONOVÁ</td>\n",
       "      <td>+</td>\n",
       "      <td>ECR</td>\n",
       "    </tr>\n",
       "    <tr>\n",
       "      <th>2</th>\n",
       "      <td>Eugen JURZYCA</td>\n",
       "      <td>+</td>\n",
       "      <td>ECR</td>\n",
       "    </tr>\n",
       "    <tr>\n",
       "      <th>3</th>\n",
       "      <td>Assita KANKO</td>\n",
       "      <td>+</td>\n",
       "      <td>ECR</td>\n",
       "    </tr>\n",
       "    <tr>\n",
       "      <th>4</th>\n",
       "      <td>Johan VAN OVERTVELDT</td>\n",
       "      <td>+</td>\n",
       "      <td>ECR</td>\n",
       "    </tr>\n",
       "    <tr>\n",
       "      <th>...</th>\n",
       "      <td>...</td>\n",
       "      <td>...</td>\n",
       "      <td>...</td>\n",
       "    </tr>\n",
       "    <tr>\n",
       "      <th>739</th>\n",
       "      <td>Mislav KOLAKUŠIĆ</td>\n",
       "      <td>0</td>\n",
       "      <td>NI</td>\n",
       "    </tr>\n",
       "    <tr>\n",
       "      <th>740</th>\n",
       "      <td>Ivan Vilibor SINČIĆ</td>\n",
       "      <td>0</td>\n",
       "      <td>NI</td>\n",
       "    </tr>\n",
       "    <tr>\n",
       "      <th>741</th>\n",
       "      <td>Riho TERRAS</td>\n",
       "      <td>0</td>\n",
       "      <td>PPE</td>\n",
       "    </tr>\n",
       "    <tr>\n",
       "      <th>742</th>\n",
       "      <td>Asim ADEMOV</td>\n",
       "      <td>0</td>\n",
       "      <td>Renew</td>\n",
       "    </tr>\n",
       "    <tr>\n",
       "      <th>743</th>\n",
       "      <td>Viktor USPASKICH</td>\n",
       "      <td>0</td>\n",
       "      <td>Renew</td>\n",
       "    </tr>\n",
       "  </tbody>\n",
       "</table>\n",
       "<p>744 rows × 3 columns</p>\n",
       "</div>"
      ],
      "text/plain": [
       "                     fullName vote  group\n",
       "0             Geert BOURGEOIS    +    ECR\n",
       "1    Lucia ĎURIŠ NICHOLSONOVÁ    +    ECR\n",
       "2               Eugen JURZYCA    +    ECR\n",
       "3                Assita KANKO    +    ECR\n",
       "4        Johan VAN OVERTVELDT    +    ECR\n",
       "..                        ...  ...    ...\n",
       "739          Mislav KOLAKUŠIĆ    0     NI\n",
       "740       Ivan Vilibor SINČIĆ    0     NI\n",
       "741               Riho TERRAS    0    PPE\n",
       "742               Asim ADEMOV    0  Renew\n",
       "743          Viktor USPASKICH    0  Renew\n",
       "\n",
       "[744 rows x 3 columns]"
      ]
     },
     "execution_count": 506,
     "metadata": {},
     "output_type": "execute_result"
    }
   ],
   "source": [
    "final_results"
   ]
  },
  {
   "cell_type": "code",
   "execution_count": 267,
   "id": "8e9e3687-ea87-49c8-b736-2e1c853d500a",
   "metadata": {
    "pycharm": {
     "name": "#%%\n"
    }
   },
   "outputs": [],
   "source": [
    "columns = ECR_POUR + GNUNGL_POUR + ID_POUR + NI_POUR + PPE_POUR + Renew_POUR + SD_POUR + VertsALE_POUR + ECR_CONTRE + GNUNGL_CONTRE + ID_CONTRE + NI_CONTRE + PPE_CONTRE + Renew_CONTRE + SD_CONTRE + VertsALE_CONTRE + ECR_ABS + GNUNGL_ABS + ID_ABS + NI_ABS + PPE_ABS + Renew_ABS + SD_ABS + VertsALE_ABS"
   ]
  },
  {
   "cell_type": "code",
   "execution_count": 269,
   "id": "554018e5-8ca0-48b6-b0ee-f65f1b2c9506",
   "metadata": {
    "pycharm": {
     "name": "#%%\n"
    }
   },
   "outputs": [
    {
     "data": {
      "text/plain": [
       "694"
      ]
     },
     "execution_count": 269,
     "metadata": {},
     "output_type": "execute_result"
    }
   ],
   "source": [
    "len(set(columns))"
   ]
  },
  {
   "cell_type": "code",
   "execution_count": 434,
   "id": "36a1cf6b-a115-4439-b3ef-76b1d553a95a",
   "metadata": {
    "pycharm": {
     "name": "#%%\n"
    }
   },
   "outputs": [],
   "source": [
    "url = \"https://www.europarl.europa.eu/meps/en/full-list/xml\"\n",
    "\n",
    "def get_meps():\n",
    "    response = requests.get(url)\n",
    "    data = xmltodict.parse(response.content)\n",
    "    return data[\"meps\"][\"mep\"]"
   ]
  },
  {
   "cell_type": "code",
   "execution_count": 435,
   "id": "a15b22e2-0ae5-4563-a8af-31d22b8e4e73",
   "metadata": {
    "pycharm": {
     "name": "#%%\n"
    }
   },
   "outputs": [],
   "source": [
    "meps = get_meps()"
   ]
  },
  {
   "cell_type": "code",
   "execution_count": 436,
   "id": "06f75df4-530b-4ae0-a58e-a1a5c595eabf",
   "metadata": {
    "pycharm": {
     "name": "#%%\n"
    }
   },
   "outputs": [],
   "source": [
    "meps_df = pd.DataFrame.from_dict(meps, orient=\"columns\")"
   ]
  },
  {
   "cell_type": "code",
   "execution_count": 493,
   "id": "34668a01-16df-4b67-804c-ea3f6f36014d",
   "metadata": {
    "pycharm": {
     "name": "#%%\n"
    }
   },
   "outputs": [],
   "source": [
    "political_groups_matching = {\n",
    "    \"Group of the European People's Party (Christian Democrats)\":\"PPE\",\n",
    "    \"Identity and Democracy Group\":\"ID\",\n",
    "    \"Group of the Progressive Alliance of Socialists and Democrats in the European Parliament\":\"S&D\",\n",
    "    \"European Conservatives and Reformists Group\":\"ECR\",\n",
    "    \"Group of the Greens/European Free Alliance\":\"Verts/ALE\",\n",
    "    \"Renew Europe Group\":\"Renew\",\n",
    "    \"The Left group in the European Parliament - GUE/NGL\":\"GUE/NGL\",\n",
    "    \"Non-attached Members\":\"NI\",\n",
    "}"
   ]
  },
  {
   "cell_type": "code",
   "execution_count": 494,
   "id": "decc4477-29bc-4dae-9e3a-c85b64a3a49e",
   "metadata": {
    "pycharm": {
     "name": "#%%\n"
    }
   },
   "outputs": [],
   "source": [
    "# meps_2 = meps_df.assign(shortPoliticalGroup=lambda x: political_groups_matching[x.politicalGroup])\n",
    "meps_df[\"shortPoliticalGroup\"] = meps_df.apply(lambda x: political_groups_matching[x.politicalGroup], axis=1)"
   ]
  },
  {
   "cell_type": "code",
   "execution_count": 306,
   "id": "d0904e4e-b1a6-4feb-be9b-65c77599ccd6",
   "metadata": {
    "pycharm": {
     "name": "#%%\n"
    }
   },
   "outputs": [],
   "source": []
  },
  {
   "cell_type": "code",
   "execution_count": 501,
   "id": "b983e35f-2ed0-404b-81ef-5a6d2c3f0f78",
   "metadata": {
    "pycharm": {
     "name": "#%%\n"
    }
   },
   "outputs": [],
   "source": [
    "def format_name_and_vote(group, group_votes, vote, results_df):\n",
    "    not_found = []\n",
    "    result = {\n",
    "        'fullName':[],\n",
    "        'group':[],\n",
    "        'vote':[]\n",
    "    }\n",
    "    for mep in group_votes:\n",
    "        if mep != '':\n",
    "            fullName = process.extract(mep, meps_df[\"fullName\"][meps_df[\"shortPoliticalGroup\"] == group].to_list(), limit=1)[0]\n",
    "            if fullName[1] > 85:\n",
    "                result[\"fullName\"].append(fullName[0]),\n",
    "                result[\"group\"].append(group),\n",
    "                result[\"vote\"].append(vote)\n",
    "            else:\n",
    "                fullName = process.extract(mep, meps_df[\"fullName\"].to_list(), limit=1)[0]\n",
    "                not_found.append(fullName[0])\n",
    "                result[\"fullName\"].append(fullName[0]),\n",
    "                result[\"group\"].append(group),\n",
    "                result[\"vote\"].append(vote)\n",
    "    groups_df = pd.DataFrame(result)\n",
    "    return pd.concat([results_df, groups_df], ignore_index=True)"
   ]
  },
  {
   "cell_type": "code",
   "execution_count": 357,
   "id": "6b474e40-b4cd-4b62-aaaf-5dfa562291e2",
   "metadata": {
    "pycharm": {
     "name": "#%%\n"
    }
   },
   "outputs": [
    {
     "name": "stdout",
     "output_type": "stream",
     "text": [
      "('Geert BOURGEOIS', 90)\n",
      "('Veronika VRECIONOVÁ', 46)\n",
      "('Eugen JURZYCA', 90)\n",
      "('Assita KANKO', 90)\n",
      "('Johan VAN OVERTVELDT', 95)\n"
     ]
    },
    {
     "data": {
      "text/plain": [
       "[{'fullName': 'Geert BOURGEOIS', 'group': 'ECR', 'vote': '+'},\n",
       " {'fullName': 'Lucia ĎURIŠ NICHOLSONOVÁ', 'group': 'ECR', 'vote': '+'},\n",
       " {'fullName': 'Eugen JURZYCA', 'group': 'ECR', 'vote': '+'},\n",
       " {'fullName': 'Assita KANKO', 'group': 'ECR', 'vote': '+'},\n",
       " {'fullName': 'Johan VAN OVERTVELDT', 'group': 'ECR', 'vote': '+'}]"
      ]
     },
     "execution_count": 357,
     "metadata": {},
     "output_type": "execute_result"
    }
   ],
   "source": [
    "format_name_and_vote(group, group_votes, vote)"
   ]
  },
  {
   "cell_type": "code",
   "execution_count": 485,
   "id": "a60e2807-a842-4162-a57c-cefca06032b0",
   "metadata": {
    "pycharm": {
     "name": "#%%\n"
    }
   },
   "outputs": [
    {
     "data": {
      "text/plain": [
       "4      SD\n",
       "6      SD\n",
       "8      SD\n",
       "14     SD\n",
       "19     SD\n",
       "       ..\n",
       "659    SD\n",
       "684    SD\n",
       "685    SD\n",
       "688    SD\n",
       "700    SD\n",
       "Name: shortPoliticalGroup, Length: 143, dtype: object"
      ]
     },
     "execution_count": 485,
     "metadata": {},
     "output_type": "execute_result"
    }
   ],
   "source": [
    "meps_df[\"shortPoliticalGroup\"][meps_df[\"shortPoliticalGroup\"]==('Adinolfi Isabella', 90)[0]].values[0]"
   ]
  },
  {
   "cell_type": "code",
   "execution_count": 486,
   "id": "8f8c2141-882d-432c-9e2e-1dc510f34a4f",
   "metadata": {
    "pycharm": {
     "name": "#%%\n"
    }
   },
   "outputs": [
    {
     "data": {
      "text/html": [
       "<div>\n",
       "<style scoped>\n",
       "    .dataframe tbody tr th:only-of-type {\n",
       "        vertical-align: middle;\n",
       "    }\n",
       "\n",
       "    .dataframe tbody tr th {\n",
       "        vertical-align: top;\n",
       "    }\n",
       "\n",
       "    .dataframe thead th {\n",
       "        text-align: right;\n",
       "    }\n",
       "</style>\n",
       "<table border=\"1\" class=\"dataframe\">\n",
       "  <thead>\n",
       "    <tr style=\"text-align: right;\">\n",
       "      <th></th>\n",
       "      <th>fullName</th>\n",
       "      <th>country</th>\n",
       "      <th>politicalGroup</th>\n",
       "      <th>id</th>\n",
       "      <th>nationalPoliticalGroup</th>\n",
       "      <th>shortPoliticalGroup</th>\n",
       "    </tr>\n",
       "  </thead>\n",
       "  <tbody>\n",
       "    <tr>\n",
       "      <th>4</th>\n",
       "      <td>Alex AGIUS SALIBA</td>\n",
       "      <td>Malta</td>\n",
       "      <td>Group of the Progressive Alliance of Socialist...</td>\n",
       "      <td>197403</td>\n",
       "      <td>Partit Laburista</td>\n",
       "      <td>SD</td>\n",
       "    </tr>\n",
       "    <tr>\n",
       "      <th>6</th>\n",
       "      <td>Clara AGUILERA</td>\n",
       "      <td>Spain</td>\n",
       "      <td>Group of the Progressive Alliance of Socialist...</td>\n",
       "      <td>125045</td>\n",
       "      <td>Partido Socialista Obrero Español</td>\n",
       "      <td>SD</td>\n",
       "    </tr>\n",
       "    <tr>\n",
       "      <th>8</th>\n",
       "      <td>João ALBUQUERQUE</td>\n",
       "      <td>Portugal</td>\n",
       "      <td>Group of the Progressive Alliance of Socialist...</td>\n",
       "      <td>237224</td>\n",
       "      <td>Partido Socialista</td>\n",
       "      <td>SD</td>\n",
       "    </tr>\n",
       "    <tr>\n",
       "      <th>14</th>\n",
       "      <td>Andris AMERIKS</td>\n",
       "      <td>Latvia</td>\n",
       "      <td>Group of the Progressive Alliance of Socialist...</td>\n",
       "      <td>197783</td>\n",
       "      <td>Gods kalpot Rīgai</td>\n",
       "      <td>SD</td>\n",
       "    </tr>\n",
       "    <tr>\n",
       "      <th>19</th>\n",
       "      <td>Marc ANGEL</td>\n",
       "      <td>Luxembourg</td>\n",
       "      <td>Group of the Progressive Alliance of Socialist...</td>\n",
       "      <td>202073</td>\n",
       "      <td>Parti ouvrier socialiste luxembourgeois</td>\n",
       "      <td>SD</td>\n",
       "    </tr>\n",
       "    <tr>\n",
       "      <th>...</th>\n",
       "      <td>...</td>\n",
       "      <td>...</td>\n",
       "      <td>...</td>\n",
       "      <td>...</td>\n",
       "      <td>...</td>\n",
       "      <td>...</td>\n",
       "    </tr>\n",
       "    <tr>\n",
       "      <th>659</th>\n",
       "      <td>Petar VITANOV</td>\n",
       "      <td>Bulgaria</td>\n",
       "      <td>Group of the Progressive Alliance of Socialist...</td>\n",
       "      <td>197844</td>\n",
       "      <td>Bulgarian Socialist Party</td>\n",
       "      <td>SD</td>\n",
       "    </tr>\n",
       "    <tr>\n",
       "      <th>684</th>\n",
       "      <td>Tiemo WÖLKEN</td>\n",
       "      <td>Germany</td>\n",
       "      <td>Group of the Progressive Alliance of Socialist...</td>\n",
       "      <td>185619</td>\n",
       "      <td>Sozialdemokratische Partei Deutschlands</td>\n",
       "      <td>SD</td>\n",
       "    </tr>\n",
       "    <tr>\n",
       "      <th>685</th>\n",
       "      <td>Lara WOLTERS</td>\n",
       "      <td>Netherlands</td>\n",
       "      <td>Group of the Progressive Alliance of Socialist...</td>\n",
       "      <td>5392</td>\n",
       "      <td>Partij van de Arbeid</td>\n",
       "      <td>SD</td>\n",
       "    </tr>\n",
       "    <tr>\n",
       "      <th>688</th>\n",
       "      <td>Elena YONCHEVA</td>\n",
       "      <td>Bulgaria</td>\n",
       "      <td>Group of the Progressive Alliance of Socialist...</td>\n",
       "      <td>197842</td>\n",
       "      <td>Bulgarian Socialist Party</td>\n",
       "      <td>SD</td>\n",
       "    </tr>\n",
       "    <tr>\n",
       "      <th>700</th>\n",
       "      <td>Carlos ZORRINHO</td>\n",
       "      <td>Portugal</td>\n",
       "      <td>Group of the Progressive Alliance of Socialist...</td>\n",
       "      <td>124739</td>\n",
       "      <td>Partido Socialista</td>\n",
       "      <td>SD</td>\n",
       "    </tr>\n",
       "  </tbody>\n",
       "</table>\n",
       "<p>143 rows × 6 columns</p>\n",
       "</div>"
      ],
      "text/plain": [
       "              fullName      country  \\\n",
       "4    Alex AGIUS SALIBA        Malta   \n",
       "6       Clara AGUILERA        Spain   \n",
       "8     João ALBUQUERQUE     Portugal   \n",
       "14      Andris AMERIKS       Latvia   \n",
       "19          Marc ANGEL   Luxembourg   \n",
       "..                 ...          ...   \n",
       "659      Petar VITANOV     Bulgaria   \n",
       "684       Tiemo WÖLKEN      Germany   \n",
       "685       Lara WOLTERS  Netherlands   \n",
       "688     Elena YONCHEVA     Bulgaria   \n",
       "700    Carlos ZORRINHO     Portugal   \n",
       "\n",
       "                                        politicalGroup      id  \\\n",
       "4    Group of the Progressive Alliance of Socialist...  197403   \n",
       "6    Group of the Progressive Alliance of Socialist...  125045   \n",
       "8    Group of the Progressive Alliance of Socialist...  237224   \n",
       "14   Group of the Progressive Alliance of Socialist...  197783   \n",
       "19   Group of the Progressive Alliance of Socialist...  202073   \n",
       "..                                                 ...     ...   \n",
       "659  Group of the Progressive Alliance of Socialist...  197844   \n",
       "684  Group of the Progressive Alliance of Socialist...  185619   \n",
       "685  Group of the Progressive Alliance of Socialist...    5392   \n",
       "688  Group of the Progressive Alliance of Socialist...  197842   \n",
       "700  Group of the Progressive Alliance of Socialist...  124739   \n",
       "\n",
       "                      nationalPoliticalGroup shortPoliticalGroup  \n",
       "4                           Partit Laburista                  SD  \n",
       "6          Partido Socialista Obrero Español                  SD  \n",
       "8                         Partido Socialista                  SD  \n",
       "14                         Gods kalpot Rīgai                  SD  \n",
       "19   Parti ouvrier socialiste luxembourgeois                  SD  \n",
       "..                                       ...                 ...  \n",
       "659                Bulgarian Socialist Party                  SD  \n",
       "684  Sozialdemokratische Partei Deutschlands                  SD  \n",
       "685                     Partij van de Arbeid                  SD  \n",
       "688                Bulgarian Socialist Party                  SD  \n",
       "700                       Partido Socialista                  SD  \n",
       "\n",
       "[143 rows x 6 columns]"
      ]
     },
     "execution_count": 486,
     "metadata": {},
     "output_type": "execute_result"
    }
   ],
   "source": [
    "meps_df[meps_df[\"shortPoliticalGroup\"]=='SD']"
   ]
  },
  {
   "cell_type": "code",
   "execution_count": 489,
   "id": "81ea909e-9af7-42ef-a643-1894fc4dd450",
   "metadata": {
    "pycharm": {
     "name": "#%%\n"
    }
   },
   "outputs": [
    {
     "name": "stdout",
     "output_type": "stream",
     "text": [
      "('Alex AGIUS SALIBA', 95)\n"
     ]
    }
   ],
   "source": [
    "mep=\"Agius Saliba\"\n",
    "group=\"SD\"\n",
    "print(process.extract(mep, meps_df[\"fullName\"][meps_df[\"shortPoliticalGroup\"] == group].to_list(), limit=1)[0])\n"
   ]
  },
  {
   "cell_type": "code",
   "execution_count": null,
   "id": "e8c648d7-c55b-46c1-a5fc-00bf9f064927",
   "metadata": {
    "pycharm": {
     "name": "#%%\n"
    }
   },
   "outputs": [],
   "source": []
  }
 ],
 "metadata": {
  "kernelspec": {
   "display_name": "Python 3 (ipykernel)",
   "language": "python",
   "name": "python3"
  },
  "language_info": {
   "codemirror_mode": {
    "name": "ipython",
    "version": 3
   },
   "file_extension": ".py",
   "mimetype": "text/x-python",
   "name": "python",
   "nbconvert_exporter": "python",
   "pygments_lexer": "ipython3",
   "version": "3.10.12"
  }
 },
 "nbformat": 4,
 "nbformat_minor": 5
}