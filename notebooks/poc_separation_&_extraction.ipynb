{
 "cells": [
  {
   "cell_type": "markdown",
   "metadata": {
    "id": "WjnnWHhyUS4o",
    "pycharm": {
     "name": "#%% md\n"
    }
   },
   "source": [
    "# Imports"
   ]
  },
  {
   "cell_type": "code",
   "execution_count": 2,
   "metadata": {
    "colab": {
     "base_uri": "https://localhost:8080/"
    },
    "id": "i9PRVSY4iOYu",
    "outputId": "8b117ced-f45f-4f43-c016-da4a2ca06958",
    "pycharm": {
     "name": "#%%\n"
    }
   },
   "outputs": [],
   "source": [
    "# ! pip install xmltodict pypdf rapidfuzz"
   ]
  },
  {
   "cell_type": "code",
   "execution_count": 3,
   "metadata": {
    "id": "yyB8RIV-h2d7",
    "pycharm": {
     "name": "#%%\n"
    }
   },
   "outputs": [],
   "source": [
    "import pandas as pd\n",
    "import re\n",
    "import requests\n",
    "import xmltodict\n",
    "import numpy as np\n",
    "\n",
    "from rapidfuzz.process import extractOne\n",
    "from rapidfuzz.utils import default_process\n",
    "\n",
    "from PyPDF2 import PdfReader\n",
    "from typing import Dict, List, Tuple, Union"
   ]
  },
  {
   "cell_type": "markdown",
   "metadata": {
    "id": "s_91ktY-UVRN",
    "pycharm": {
     "name": "#%% md\n"
    }
   },
   "source": [
    "# Load European deputy list"
   ]
  },
  {
   "cell_type": "code",
   "execution_count": 4,
   "metadata": {
    "colab": {
     "base_uri": "https://localhost:8080/",
     "height": 206
    },
    "id": "xnVjDkIqieqF",
    "outputId": "d8d97c9d-52a5-40fd-a53c-2eb913b8a09c",
    "pycharm": {
     "name": "#%%\n"
    }
   },
   "outputs": [
    {
     "data": {
      "text/html": [
       "<div>\n",
       "<style scoped>\n",
       "    .dataframe tbody tr th:only-of-type {\n",
       "        vertical-align: middle;\n",
       "    }\n",
       "\n",
       "    .dataframe tbody tr th {\n",
       "        vertical-align: top;\n",
       "    }\n",
       "\n",
       "    .dataframe thead th {\n",
       "        text-align: right;\n",
       "    }\n",
       "</style>\n",
       "<table border=\"1\" class=\"dataframe\">\n",
       "  <thead>\n",
       "    <tr style=\"text-align: right;\">\n",
       "      <th></th>\n",
       "      <th>fullName</th>\n",
       "      <th>country</th>\n",
       "      <th>politicalGroup</th>\n",
       "      <th>id</th>\n",
       "      <th>nationalPoliticalGroup</th>\n",
       "      <th>shortPoliticalGroup</th>\n",
       "    </tr>\n",
       "  </thead>\n",
       "  <tbody>\n",
       "    <tr>\n",
       "      <th>0</th>\n",
       "      <td>Magdalena ADAMOWICZ</td>\n",
       "      <td>Poland</td>\n",
       "      <td>Group of the European People's Party (Christia...</td>\n",
       "      <td>197490</td>\n",
       "      <td>Independent</td>\n",
       "      <td>PPE</td>\n",
       "    </tr>\n",
       "    <tr>\n",
       "      <th>1</th>\n",
       "      <td>Asim ADEMOV</td>\n",
       "      <td>Bulgaria</td>\n",
       "      <td>Group of the European People's Party (Christia...</td>\n",
       "      <td>189525</td>\n",
       "      <td>Citizens for European Development of Bulgaria</td>\n",
       "      <td>PPE</td>\n",
       "    </tr>\n",
       "    <tr>\n",
       "      <th>2</th>\n",
       "      <td>Isabella ADINOLFI</td>\n",
       "      <td>Italy</td>\n",
       "      <td>Group of the European People's Party (Christia...</td>\n",
       "      <td>124831</td>\n",
       "      <td>Forza Italia</td>\n",
       "      <td>PPE</td>\n",
       "    </tr>\n",
       "    <tr>\n",
       "      <th>3</th>\n",
       "      <td>Matteo ADINOLFI</td>\n",
       "      <td>Italy</td>\n",
       "      <td>Identity and Democracy Group</td>\n",
       "      <td>197826</td>\n",
       "      <td>Lega</td>\n",
       "      <td>ID</td>\n",
       "    </tr>\n",
       "    <tr>\n",
       "      <th>4</th>\n",
       "      <td>Alex AGIUS SALIBA</td>\n",
       "      <td>Malta</td>\n",
       "      <td>Group of the Progressive Alliance of Socialist...</td>\n",
       "      <td>197403</td>\n",
       "      <td>Partit Laburista</td>\n",
       "      <td>S&amp;D</td>\n",
       "    </tr>\n",
       "  </tbody>\n",
       "</table>\n",
       "</div>"
      ],
      "text/plain": [
       "              fullName   country  \\\n",
       "0  Magdalena ADAMOWICZ    Poland   \n",
       "1          Asim ADEMOV  Bulgaria   \n",
       "2    Isabella ADINOLFI     Italy   \n",
       "3      Matteo ADINOLFI     Italy   \n",
       "4    Alex AGIUS SALIBA     Malta   \n",
       "\n",
       "                                      politicalGroup      id  \\\n",
       "0  Group of the European People's Party (Christia...  197490   \n",
       "1  Group of the European People's Party (Christia...  189525   \n",
       "2  Group of the European People's Party (Christia...  124831   \n",
       "3                       Identity and Democracy Group  197826   \n",
       "4  Group of the Progressive Alliance of Socialist...  197403   \n",
       "\n",
       "                          nationalPoliticalGroup shortPoliticalGroup  \n",
       "0                                    Independent                 PPE  \n",
       "1  Citizens for European Development of Bulgaria                 PPE  \n",
       "2                                   Forza Italia                 PPE  \n",
       "3                                           Lega                  ID  \n",
       "4                               Partit Laburista                 S&D  "
      ]
     },
     "execution_count": 4,
     "metadata": {},
     "output_type": "execute_result"
    }
   ],
   "source": [
    "# Récupérer la liste actuelle des députés européens. Attention, le groupe d'appartenance peut être différent de celui du député au moment du vote.\n",
    "url = \"https://www.europarl.europa.eu/meps/en/full-list/xml\"\n",
    "\n",
    "def get_european_deputy() -> pd.DataFrame:\n",
    "    response = requests.get(url)\n",
    "    data = xmltodict.parse(response.content)\n",
    "    return pd.DataFrame.from_dict(data[\"meps\"][\"mep\"], orient=\"columns\")\n",
    "\n",
    "df_european_deputy = get_european_deputy()\n",
    "\n",
    "# Simplifier le nom du groupe parlementaire\n",
    "political_groups_matching = {\n",
    "    \"Group of the European People's Party (Christian Democrats)\": \"PPE\",\n",
    "    \"Identity and Democracy Group\": \"ID\",\n",
    "    \"Group of the Progressive Alliance of Socialists and Democrats in the European Parliament\": \"S&D\",\n",
    "    \"European Conservatives and Reformists Group\": \"ECR\",\n",
    "    \"Group of the Greens/European Free Alliance\": \"Verts/ALE\",\n",
    "    \"Renew Europe Group\": \"Renew\",\n",
    "    \"The Left group in the European Parliament - GUE/NGL\": \"GUE/NGL\",\n",
    "    \"Non-attached Members\": \"NI\",\n",
    "}\n",
    "\n",
    "df_european_deputy[\"shortPoliticalGroup\"] = df_european_deputy.apply(lambda x: political_groups_matching[x.politicalGroup], axis=1)\n",
    "df_european_deputy.head()"
   ]
  },
  {
   "cell_type": "code",
   "execution_count": 5,
   "metadata": {
    "id": "PowZZjpTUQk6",
    "pycharm": {
     "name": "#%%\n"
    }
   },
   "outputs": [],
   "source": [
    "full_name_list = df_european_deputy['fullName'].to_list()\n",
    "processed_full_name_list = [default_process(name) for name in full_name_list]\n",
    "\n",
    "group_name_list = {}\n",
    "processed_group_name_list = {}\n",
    "for group, df in df_european_deputy.groupby('shortPoliticalGroup'):\n",
    "  group_name_list[group] = df['fullName'].to_list()\n",
    "  processed_group_name_list[group] = [default_process(name) for name in group_name_list[group]]\n",
    "\n",
    "def get_full_name(name: str, group: str = None, min_score: int = 90):\n",
    "    # mathch a deputy name to its full name in the european deputy list\n",
    "    processed_name = default_process(name)\n",
    "    if group is not None:\n",
    "      fuzzy_match = extractOne(processed_name, processed_group_name_list[group], processor=None, score_cutoff=min_score)\n",
    "      if fuzzy_match is not None:\n",
    "          return group_name_list[group][fuzzy_match[2]]\n",
    "    fuzzy_match = extractOne(processed_name, processed_full_name_list, processor=None, score_cutoff=min_score)\n",
    "    if fuzzy_match is not None:\n",
    "      return full_name_list[fuzzy_match[2]]"
   ]
  },
  {
   "cell_type": "markdown",
   "metadata": {
    "id": "EkV4HgBxVBlF",
    "pycharm": {
     "name": "#%% md\n"
    }
   },
   "source": [
    "# Helpers methods"
   ]
  },
  {
   "cell_type": "code",
   "execution_count": 6,
   "metadata": {
    "id": "_X01pgq97XMe",
    "pycharm": {
     "name": "#%%\n"
    }
   },
   "outputs": [],
   "source": [
    "REGEX_SUMMARY_PAGE_NUMBER = \"\\s*\\.+?(?=\\d)\"\n",
    "\n",
    "def build_regex_extract_page_num_from_footer(text: str) -> str:\n",
    "  regex_footer = \"^.*\\d{3}\\.\\d{3}\"\n",
    "  footer = re.findall(regex_footer, text)[0]\n",
    "  footer_split = footer.split()\n",
    "  return re.escape(footer_split[0]) + \"\\s(\\d+).*?\" + re.escape(footer_split[-1])\n",
    "\n",
    "# def extract_summary(page_list: List[str]) -> str:\n",
    "#   # get summary first page\n",
    "#   regex_summary_title = '^SOMMAIRE\\n'\n",
    "#   summary_first_page_num = None\n",
    "#   for i, page_text in enumerate(page_list):\n",
    "#     if len(re.findall(regex_summary_title, page_text)) > 0:\n",
    "#       summary_first_page_num = i\n",
    "#       summary_first_page_text = page_text\n",
    "#       break\n",
    "#   if summary_first_page_num is None:\n",
    "#     raise Exception(\"Summary not found.\")\n",
    "#   summary_first_page_text = re.sub(regex_summary_title, '', summary_first_page_text)\n",
    "\n",
    "#   # get summary last page\n",
    "#   first_amendment_summary_line = summary_first_page_text.split('\\n')[0]\n",
    "#   first_amendment_page_num = int(re.split(REGEX_SUMMARY_PAGE_NUMBER, first_amendment_summary_line)[1])\n",
    "#   summary_last_page_num = first_amendment_page_num - 2\n",
    "\n",
    "#   # load every pages of the summary into as single text\n",
    "#   summary_text = \"\\n\".join([page_list[i] for i in range(summary_first_page_num, summary_last_page_num + 1)])\n",
    "#   summary_text = re.sub(regex_summary_title, '', summary_text)\n",
    "#   return summary_text\n",
    "\n",
    "\n",
    "# def get_amendment_infos_from_summary(page_list: List[str]) -> Dict:\n",
    "#   # read summary as text\n",
    "#   summary_text = extract_summary(page_list)\n",
    "\n",
    "#   # read for every amendment its name, id in the document and first page number\n",
    "#   amendment_summary_infos = []\n",
    "#   for amendment in summary_text.split('\\n'):\n",
    "#     amendment_full_name, page_num = re.split(REGEX_SUMMARY_PAGE_NUMBER, amendment)\n",
    "#     amendment_num, amendment_name = amendment_full_name.split('. ')\n",
    "#     amendment_summary_infos.append((amendment_name, int(amendment_num), int(page_num)))\n",
    "\n",
    "#   # infer an amendment last page number from the next amendment first page\n",
    "#   amendment_infos = {}\n",
    "#   for i in range(len(amendment_summary_infos)):\n",
    "#     amendment_name, amendment_num, page_num = amendment_summary_infos[i]\n",
    "#     if i != len(amendment_summary_infos) - 1 :\n",
    "#       page_end = amendment_summary_infos[i + 1][2] - 1\n",
    "#     else:\n",
    "#       page_end = len(page_list)\n",
    "#     amendment_infos[amendment_name] = {'id': amendment_num, 'page_start': page_num, 'page_end': page_end}\n",
    "#   return amendment_infos\n",
    "\n",
    "def get_amendment_infos_from_body(page_list: List[str], footer_regex: str) -> Dict:\n",
    "  # read for every amendment its name, id in the document and first page number\n",
    "  header_regex = \"^(\\d+)\\.\\s(.+)\\s\\d{1,2}/\\d{1,2}/\\d{4}\\s\\d{2}:\\d{2}:\\d{2}.\\d{3}\\\\n\"\n",
    "  amendment_infos = {}\n",
    "  previous_amendment_name = None\n",
    "  for page in page_list:\n",
    "    _, page_num, page = re.split(footer_regex, page)\n",
    "    match_found = re.findall(header_regex, page)\n",
    "    if len(match_found) == 1:\n",
    "      id, name = match_found[0]\n",
    "      amendment_infos[name] = {'id': int(id), 'page_start': int(page_num)}\n",
    "      if previous_amendment_name is not None:\n",
    "          amendment_infos[previous_amendment_name]['page_end'] = int(page_num) - 1\n",
    "      previous_amendment_name = name\n",
    "    elif len(match_found) > 1:\n",
    "      raise Exception('Error reading, found more thant one match for header.')\n",
    "\n",
    "  return amendment_infos\n"
   ]
  },
  {
   "cell_type": "markdown",
   "metadata": {
    "id": "GL13FI4cVK6u",
    "pycharm": {
     "name": "#%% md\n"
    }
   },
   "source": [
    "# Read the file"
   ]
  },
  {
   "cell_type": "markdown",
   "metadata": {
    "id": "DqxRWHufVoHt",
    "pycharm": {
     "name": "#%% md\n"
    }
   },
   "source": [
    "## Load all pages"
   ]
  },
  {
   "cell_type": "code",
   "execution_count": 7,
   "metadata": {
    "id": "5qFaeyvgVs2z",
    "pycharm": {
     "name": "#%%\n"
    }
   },
   "outputs": [],
   "source": [
    "# path to the pdf file\n",
    "path = \"../tests/data/domain/vote_analysis/test_minutes.pdf\"\n",
    "\n",
    "# read pdf and store each page extracted text in a list\n",
    "with open(path, 'rb') as f:\n",
    "    pdf = PdfReader(f)\n",
    "    page_list = []\n",
    "    for i, page in enumerate(pdf.pages):\n",
    "        page_text = page.extract_text()\n",
    "        if i == 0:\n",
    "          footer_regex = build_regex_extract_page_num_from_footer(page_text)\n",
    "        page_list.append(page_text)"
   ]
  },
  {
   "cell_type": "code",
   "execution_count": 10,
   "metadata": {
    "pycharm": {
     "name": "#%%\n"
    }
   },
   "outputs": [
    {
     "name": "stdout",
     "output_type": "stream",
     "text": [
      "P9_PV(2019)11-14(RCV)_FR.docx 4 PE 643.9601. A9-0019/2019 -  Ondřej Kovařík - Vote unique 14/11/2019 11:38:20.000\n",
      "565+\n",
      "ECR: Aguilar, Bielan, Brudziński, Buxadé Villalba, Ďuriš Nicholsonová, Dzhambazki, Eppink, Fidanza, Fiocchi, Fitto, Fotyga, \n",
      "Fragkos, Geuking, Hannan, Jaki, Jurzyca, Kanko, Karski, Kempa, Kloc, Kopcińska, Krasnodębski, Kruk, Kuźmiuk, \n",
      "Legutko, Lundgren, McIntyre, Mazurek, Melbārde, Możdżanowska, Poręba, Procaccini, Rafalska, Rooken, Roos, \n",
      "Ruissen, Rzońca, Saryusz-Wolski, Slabakov, Stancanelli, Stegrud, Szydło, Tertsch, Tobiszowski, Tomaševski, Tomašić, \n",
      "Tošenovský, Van Orden, Van Overtveldt, Vrecionová, Waszczykowski, Weimers, Wiśniewska, Zahradil, Zalewska, Zīle, \n",
      "Złotowski\n",
      "GUE/NGL: Arvanitis, Aubry, Barrena Arza, Bompard, Botenga, Buschmann, Chaibi, Daly, Demirel, Ernst, Ferreira, Flanagan, \n",
      "Georgiou, Georgoulis, Gusmão, Kizilyürek, Kokkalis, Konečná, Kouloglou, Kountoura, Maurel, Michels, Omarjee, \n",
      "Papadimoulis, Pelletier, Pereira Sandra, Pineda, Rego, Schirdewan, Scholz, Urbán Crespo, Villanueva Ruiz, Wallace\n",
      "ID: Kofod\n",
      "NI: Beghin, Castaldo, Corrao, D'Amato, Evi, Ferrara, Furore, Gemma, Giarrusso, Gyöngyösi, Kolakušić, Pedicini, Pignedoli, \n",
      "Rondinelli, Sonneborn, Zullo\n",
      "PPE: Adamowicz, Ademov, Alexandrov Yordanov, Amaro, Arias Echeverría, Arimont, Arłukowicz, Asimakopoulou, Bellamy, \n",
      "Benjumea Benjumea, Bentele, Berendsen, Berger, Bernhuber, Blaga, Bocskor, Bogovič, Buda, Buzek, Carvalho, Casa, \n",
      "Caspary, del Castillo Vera, Christoforou, Colin-Oesterlé, van Dalen, Danjean, Deli, Deutsch, Didier, Doleschal, Dorfmann, \n",
      "Duda, Düpont, Edtstadler, Ehler, Estaràs Ferragut, Falcă, Ferber, Fernandes, Fourlas, Frankowski, Franssen, Gahler, \n",
      "Gál, García-Margallo y Marfil, Gieseke, González Pons, Győri, Gyürk, Halicki, Hansen, Hava, Herbst, Hetman, Hidvéghi, \n",
      "Hohlmeier, Hölvényi, Hortefeux, Hübner, Jahr, Jarubas, Juknevičienė, Kalinowski, Kalniete, Kanev, Karas, Kefalogiannis, \n",
      "Kelly, Kokalari, Kopacz, Kósa, Kovatchev, Kubilius, Kympouropoulos, Kyrtsos, de Lange, Lega, Lenaers, Lewandowski, \n",
      "Lins, López Gil, López-Istúriz White, Łukacijewska, Lutgen, McAllister, McGuinness, Maldeikienė, Manders, Mandl, \n",
      "Marinescu, Martusciello, Mažylis, Meimarakis, Melo, Metsola, Milazzo, Millán Mon, Monteiro de Aguiar, Montserrat, \n",
      "Morano, Mortler, Mureşan, Niebler, Niedermayer, Novak, Novakov, Olbrycht, Patriciello, Peeters, Pereira Lídia, Pieper, \n",
      "Pietikäinen, Polčák, Polfjärd, Pollák, Radev, Radtke, Rangel, Ressler, Salini, Sander, Sarvamaa, Schmiedtbauer, \n",
      "Schneider, Schreijer-Pierik, Schulze, Schwab, Seekatz, Simon, Skyttedal, Šojdrová, Sokol, Štefanec, Šuica, Szájer, \n",
      "Tajani, Thaler, Thun und Hohenstein, Tobé, Tomac, Tomc, Tóth, Trócsányi, Vaidere, Verheyen, Vincze, Virkkunen, Voss, \n",
      "Vozemberg-Vrionidi, Walsh, Walsmann, Warborn, Weber, Weiss, Wieland, Wiezik, Winkler, Winzig, Wiseler-Lima, \n",
      "Zagorakis, Zarzalejos, Zoido Álvarez, Zovko, Zver\n",
      "Renew: Alieva-Veli, Al-Sahlani, Ansip, Armand, Auštrevičius, Azmani, Bauzá Díaz, Bearder, Beer, Bennion, Bijoux, Bilbao \n",
      "Barandica, Botoş, Boyer, Brophy, Bunting, Cañas, Canfin, Chabaud, Charanzová, Chastel, Cioloş, Cseh, Davies, Decerle, \n",
      "Dlabajová, Donáth, Durand, Farreng, Federley, Flego, Gade, Gamon, Garicano, Gibson, Goerens, Grošelj, Grudler, Hahn \n",
      "Svenja, Hayer, Hlaváček, Hojsík, Horwood, Huitema, Ijabs, in 't Veld, Karleskind, Karlsbro, Katainen, Kelleher, Keller \n",
      "Fabienne, Knotek, Körner, Kovařík, Kyuchyuk, Loiseau, Løkkegaard, Long, Maxová, Melchior, Mihaylova, Müller, \n",
      "Nagtegaal, Nethsingha, Newton Dunn, Oetjen, Pagazaurtundúa, Pekkarinen, Petersen, Pîslaru, Porritt, Rafaela, Ries, \n",
      "Riquet, Rodríguez Ramos, Schreinemacher, Séjourné, Semedo, Šimečka, Solís Pérez, Strugariu, Tolleret, Toom, \n",
      "Torvalds, Trillet-Lenoir, Tudorache, Uspaskich, Vautmans, Vedrenne, Verhofstadt, Voaden, Von Wiese, Yon-Courtin\n",
      "S&D: Agius Saliba, Aguilera, Ameriks, Androulakis, Ara-Kovács, Arena, Avram, Balt, Barley, Bartolo, Belka, Benea, Benifei, \n",
      "Beňová, Bergkvist, Bischoff, Blinkevičiūtė, Bonafè, Borzan, Brglez, Bullmann, Burkhardt, Calenda, Carvalhais, Cerdas, \n",
      "Chahim, Chinnici, Cimoszewicz, Ciuhodaru, Corbett, Cozzolino, Crețu, Cutajar, Dalli, Dance, Danielsson, Danti, De \n",
      "Castro, Dobrev, Durá Ferrandis, Ertug, Fernández, Ferrandino, Fritzon, Fuglsang, Gálvez Muñoz, García Del Blanco, \n",
      "García Muñoz, García Pérez, Gardiazabal Rubial, Gebhardt, Gill Neena, Glucksmann, González, González Casares, \n",
      "Grapini, Griffin, Gualmini, Guillaume, Guteland, Hajšel, Heide, Heinäluoma, Homs Ginel, Howarth, Hristov, Incir, Jones, \n",
      "Kaili, Kaljurand, Kammerevert, Kirton-Darling, Kohut, Köster, Krehl, Kumpula-Natri, Lalucq, Lange, Leitão Marques, \n",
      "Liberadzki, López Aguilar, Luena, Maestre Martín De Almagro, Majorino, Maldonado López, Marques Margarida, \n",
      "Marques Pedro, Matić, Mavrides, Mikser, Miller, Molnár, Moraes, Moreno Sánchez, Moretti, Nica, Noichl, Olekas, Palmer, \n",
      "Papadakis Demetris, Picierno, Picula, Pisapia, Pizarro, Rodríguez-Piñero, Rónai, Ruiz Devesa, Sánchez Amor, Sant, \n",
      "Schaldemose, Schieder, Sidl, Sippel, Smeriglio, Spurek, Stanishev, Tarabella, Tax, Terheş, Tinagli, Toia, Tudose, Ujhelyi, \n",
      "Ušakovs, Van Brempt, Vind, Vitanov, Vollath, Ward, Wölken, Wolters, Yoncheva, Zorrinho\n",
      "Verts/ALE: Ainslie, Alfonsi, Allard, Andresen, Auken, Biteau, Bloss, Boeselager, Breyer, Bricmont, Buchner, Carême, Cavazzini, \n",
      "Chowns, Cormand, Cuffe, Delbos-Corfield, Delli, Deparnay-Grunenberg, De Sutter, Dowding, Eickhout, Evans, Franz, \n",
      "Freund, Geese, Giegold, Gregorová, Guerreiro, Hahn Henrike, Häusling, Hautala, Holmgren, Jadot, Jakeliūnas, Keller \n",
      "Ska, Kolaja, Kuhnke, Lagodinsky, Lamberts, Langensiepen, McLeod, Marquardt, Metz, Neumann, Nienaß, Niinistö, \n",
      "O'Sullivan, Paulus, Peksa, Peter-Hansen, Phillips Alexandra Louise Rosenfield, Riba i Giner, Rivasi, Roose, Ropė, \n",
      "Rowett, Satouri, Semsrott, Smith, Strik, Toussaint, Urtasun, Vana, Van Sparrentak, Von Cramon-Taubadel, Wiener\n",
      "23-\n"
     ]
    }
   ],
   "source": [
    "print(page_list[3])"
   ]
  },
  {
   "cell_type": "markdown",
   "metadata": {
    "id": "wY2oUGbWVusO",
    "pycharm": {
     "name": "#%% md\n"
    }
   },
   "source": [
    "## Extract amendment names and locations"
   ]
  },
  {
   "cell_type": "code",
   "execution_count": 11,
   "metadata": {
    "colab": {
     "base_uri": "https://localhost:8080/"
    },
    "id": "D0g87tj3iFAt",
    "outputId": "649a072d-cea1-438c-b178-dbd91500c572",
    "pycharm": {
     "name": "#%%\n"
    }
   },
   "outputs": [
    {
     "name": "stdout",
     "output_type": "stream",
     "text": [
      "{'A9-0019/2019 -  Ondřej Kovařík - Vote unique': {'id': 1, 'page_start': 4, 'page_end': 5}, 'A9-0021/2019 -  José Manuel Fernandes - Am 1': {'id': 2, 'page_start': 6, 'page_end': 7}, 'A9-0021/2019 -  José Manuel Fernandes - Résolution': {'id': 3, 'page_start': 8, 'page_end': 9}, 'B9-0170/2019 - Résolution': {'id': 4, 'page_start': 10, 'page_end': 11}, 'B9-0169/2019 - Résolution': {'id': 5, 'page_start': 12, 'page_end': 13}, 'B9-0171/2019 - Résolution': {'id': 6, 'page_start': 14, 'page_end': 15}, 'B9-0172/2019 - Résolution': {'id': 7, 'page_start': 16, 'page_end': 17}, 'B9-0166/2019 - Am 8': {'id': 8, 'page_start': 18, 'page_end': 19}, 'B9-0166/2019 - Am 9': {'id': 9, 'page_start': 20, 'page_end': 21}, 'B9-0166/2019 - Am 10': {'id': 10, 'page_start': 22, 'page_end': 23}, 'B9-0166/2019 - Am 11': {'id': 11, 'page_start': 24, 'page_end': 25}, 'B9-0166/2019 - Am 12': {'id': 12, 'page_start': 26, 'page_end': 27}, 'B9-0166/2019 - Am 13': {'id': 13, 'page_start': 28, 'page_end': 29}, 'B9-0166/2019 - Am 14': {'id': 14, 'page_start': 30, 'page_end': 31}, 'B9-0166/2019 - Am 15': {'id': 15, 'page_start': 32, 'page_end': 33}, 'B9-0166/2019 - Am 16': {'id': 16, 'page_start': 34, 'page_end': 35}, 'B9-0166/2019 - Am 17': {'id': 17, 'page_start': 36, 'page_end': 37}, 'B9-0166/2019 - Am 18': {'id': 18, 'page_start': 38, 'page_end': 39}, 'B9-0166/2019 - § 3/3': {'id': 19, 'page_start': 40, 'page_end': 41}, 'B9-0166/2019 - § 8/2': {'id': 20, 'page_start': 42, 'page_end': 43}, 'B9-0166/2019 - Am 22': {'id': 21, 'page_start': 44, 'page_end': 45}, 'B9-0166/2019 - Am 23': {'id': 22, 'page_start': 46, 'page_end': 47}, 'B9-0166/2019 - § 10': {'id': 23, 'page_start': 48, 'page_end': 49}, 'B9-0166/2019 - Visa 12': {'id': 24, 'page_start': 50, 'page_end': 51}, 'B9-0166/2019 - Am 1': {'id': 25, 'page_start': 52, 'page_end': 53}, 'B9-0166/2019 - Am 2': {'id': 26, 'page_start': 54, 'page_end': 55}, 'B9-0166/2019 - Am 3': {'id': 27, 'page_start': 56, 'page_end': 57}, 'B9-0166/2019 - Am 19': {'id': 28, 'page_start': 58, 'page_end': 59}, 'B9-0166/2019 - Am 5': {'id': 29, 'page_start': 60, 'page_end': 61}, 'B9-0166/2019 - Am 6': {'id': 30, 'page_start': 62, 'page_end': 63}, 'B9-0166/2019 - Am 7': {'id': 31, 'page_start': 64, 'page_end': 65}, 'B9-0166/2019 - Am 20': {'id': 32, 'page_start': 66, 'page_end': 67}, 'B9-0166/2019 - Am 21': {'id': 33, 'page_start': 68, 'page_end': 69}, 'B9-0166/2019 - Considérant P': {'id': 34, 'page_start': 70, 'page_end': 71}, 'B9-0166/2019 - Résolution': {'id': 35, 'page_start': 72}}\n"
     ]
    }
   ],
   "source": [
    "amendment_pages = get_amendment_infos_from_body(page_list, footer_regex)\n",
    "print(amendment_pages)"
   ]
  },
  {
   "cell_type": "code",
   "execution_count": 12,
   "metadata": {
    "id": "OYJfqUCWSBWI",
    "pycharm": {
     "name": "#%%\n"
    }
   },
   "outputs": [],
   "source": [
    "# remove footer\n",
    "page_list = [re.split(footer_regex, page)[-1] for page in page_list]"
   ]
  },
  {
   "cell_type": "markdown",
   "metadata": {
    "id": "mBP0Lu74Xwg_",
    "pycharm": {
     "name": "#%% md\n"
    }
   },
   "source": [
    "## Extract amendment votes"
   ]
  },
  {
   "cell_type": "code",
   "execution_count": 13,
   "metadata": {
    "id": "klcsrJIWWk2F",
    "pycharm": {
     "name": "#%%\n"
    }
   },
   "outputs": [],
   "source": [
    "def read_amendment_votes(name: str, amendment_pages: Dict, page_list: List[str]) -> Tuple[str, Union[str, None]]:\n",
    "  # load amendment full text\n",
    "  amendment_infos = amendment_pages[name]\n",
    "  text = \"\\n\".join([page_list[i] for i in range(amendment_infos['page_start'] - 1, amendment_infos['page_end'])])\n",
    "\n",
    "  # remove amendment header\n",
    "  text_without_header = \"\\n\".join(text.split('\\n')[1:])\n",
    "\n",
    "  # separate original votes from potential correction votes\n",
    "  correction_regex = 'ПОПРАВКИ[\\S\\s]+RÖSTER'\n",
    "  splitted_corrections = re.split(correction_regex, text_without_header)\n",
    "  if len(splitted_corrections) > 1:\n",
    "    original_votes, corrected_votes = splitted_corrections\n",
    "  else:\n",
    "    original_votes, corrected_votes = text_without_header, None\n",
    "\n",
    "  return original_votes, corrected_votes"
   ]
  },
  {
   "cell_type": "code",
   "execution_count": 14,
   "metadata": {
    "id": "Gp5ZblUWX2Xy",
    "pycharm": {
     "name": "#%%\n"
    }
   },
   "outputs": [],
   "source": [
    "amendment_name = 'A9-0019/2019 -  Ondřej Kovařík - Vote unique'\n",
    "\n",
    "original_votes, corrected_votes = read_amendment_votes(amendment_name, amendment_pages, page_list)"
   ]
  },
  {
   "cell_type": "markdown",
   "metadata": {
    "id": "AFs72OowYGrx",
    "pycharm": {
     "name": "#%% md\n"
    }
   },
   "source": [
    "## Extract voters"
   ]
  },
  {
   "cell_type": "code",
   "execution_count": 15,
   "metadata": {
    "id": "phfr5DN1YRG_",
    "pycharm": {
     "name": "#%%\n"
    }
   },
   "outputs": [],
   "source": [
    "def extract_original_votes(original_votes: str) -> pd.DataFrame:\n",
    "  regex_vote_categories = '(\\d+)([+0-])'\n",
    "  regex_group = '\\n+?(.+?): *'\n",
    "  votes_by_category = re.split(regex_vote_categories, original_votes)[1:]\n",
    "  df_votes = []\n",
    "  for i in range(0, len(votes_by_category), 3):\n",
    "    vote_number = votes_by_category[i]\n",
    "    vote_category = votes_by_category[i+1]\n",
    "    votes = votes_by_category[i+2]\n",
    "    votes_by_group = re.split(regex_group, votes)\n",
    "    for i in range(1, len(votes_by_group), 2):\n",
    "      group_name = votes_by_group[i]\n",
    "      group_voters = votes_by_group[i+1].replace('\\n', '').split(', ')\n",
    "      for voter in group_voters:\n",
    "        df_votes.append([voter, group_name, vote_category])\n",
    "\n",
    "  df_votes = pd.DataFrame(df_votes, columns=['name', 'group', 'vote'])\n",
    "  df_votes['full_name'] = df_votes.apply(lambda row: get_full_name(row['name'], row['group']), axis=1)\n",
    "  return df_votes\n",
    "\n",
    "def extract_corrected_votes(corrected_votes: str) -> pd.DataFrame:\n",
    "  regex_correction = '\\n([+0-])'\n",
    "  votes_by_category = re.split(regex_correction, corrected_votes)\n",
    "  df_corrected_votes = []\n",
    "  for i in range(1, len(votes_by_category), 2):\n",
    "    vote_category = votes_by_category[i]\n",
    "    category_voters = votes_by_category[i+1].replace('\\n', '').split(', ')\n",
    "    # case when no correction for a specific category\n",
    "    if len(category_voters) == 1 and category_voters[0] == '':\n",
    "      category_voters = []\n",
    "    for voter in category_voters:\n",
    "      df_corrected_votes.append([voter, vote_category])\n",
    "  df_corrected_votes = pd.DataFrame(df_corrected_votes, columns=['name', 'corrected_vote'])\n",
    "  df_corrected_votes['full_name'] = df_corrected_votes.apply(lambda row: get_full_name(row['name']), axis=1)\n",
    "  return df_corrected_votes\n",
    "\n",
    "def correct_votes(df_votes: pd.DataFrame, df_corrected_votes: pd.DataFrame) -> pd.DataFrame:\n",
    "    df_updated_votes = df_votes.merge(df_corrected_votes[['full_name', 'corrected_vote']], how='outer', on='full_name')\n",
    "    df_updated_votes['vote'] = np.where(\n",
    "      df_updated_votes['corrected_vote'].notna(),\n",
    "      df_updated_votes['corrected_vote'],\n",
    "      df_updated_votes['vote']\n",
    "    )\n",
    "    df_updated_votes.drop(columns='corrected_vote', inplace=True)\n",
    "    return df_updated_votes"
   ]
  },
  {
   "cell_type": "code",
   "execution_count": 16,
   "metadata": {
    "colab": {
     "base_uri": "https://localhost:8080/",
     "height": 442
    },
    "id": "vcCPo3jQYhXu",
    "outputId": "cbe2159c-7d97-4384-9027-9f8f9003b459",
    "pycharm": {
     "name": "#%%\n"
    }
   },
   "outputs": [
    {
     "name": "stdout",
     "output_type": "stream",
     "text": [
      "ORIGINAL VOTES\n"
     ]
    },
    {
     "data": {
      "text/html": [
       "<div>\n",
       "<style scoped>\n",
       "    .dataframe tbody tr th:only-of-type {\n",
       "        vertical-align: middle;\n",
       "    }\n",
       "\n",
       "    .dataframe tbody tr th {\n",
       "        vertical-align: top;\n",
       "    }\n",
       "\n",
       "    .dataframe thead th {\n",
       "        text-align: right;\n",
       "    }\n",
       "</style>\n",
       "<table border=\"1\" class=\"dataframe\">\n",
       "  <thead>\n",
       "    <tr style=\"text-align: right;\">\n",
       "      <th></th>\n",
       "      <th>name</th>\n",
       "      <th>group</th>\n",
       "      <th>vote</th>\n",
       "      <th>full_name</th>\n",
       "    </tr>\n",
       "  </thead>\n",
       "  <tbody>\n",
       "    <tr>\n",
       "      <th>0</th>\n",
       "      <td>Aguilar</td>\n",
       "      <td>ECR</td>\n",
       "      <td>+</td>\n",
       "      <td>Mazaly AGUILAR</td>\n",
       "    </tr>\n",
       "    <tr>\n",
       "      <th>1</th>\n",
       "      <td>Bielan</td>\n",
       "      <td>ECR</td>\n",
       "      <td>+</td>\n",
       "      <td>Adam BIELAN</td>\n",
       "    </tr>\n",
       "    <tr>\n",
       "      <th>2</th>\n",
       "      <td>Brudziński</td>\n",
       "      <td>ECR</td>\n",
       "      <td>+</td>\n",
       "      <td>Joachim Stanisław BRUDZIŃSKI</td>\n",
       "    </tr>\n",
       "    <tr>\n",
       "      <th>3</th>\n",
       "      <td>Buxadé Villalba</td>\n",
       "      <td>ECR</td>\n",
       "      <td>+</td>\n",
       "      <td>Jorge BUXADÉ VILLALBA</td>\n",
       "    </tr>\n",
       "    <tr>\n",
       "      <th>4</th>\n",
       "      <td>Ďuriš Nicholsonová</td>\n",
       "      <td>ECR</td>\n",
       "      <td>+</td>\n",
       "      <td>Lucia ĎURIŠ NICHOLSONOVÁ</td>\n",
       "    </tr>\n",
       "    <tr>\n",
       "      <th>...</th>\n",
       "      <td>...</td>\n",
       "      <td>...</td>\n",
       "      <td>...</td>\n",
       "      <td>...</td>\n",
       "    </tr>\n",
       "    <tr>\n",
       "      <th>648</th>\n",
       "      <td>Nikolaou-Alavanos</td>\n",
       "      <td>NI</td>\n",
       "      <td>0</td>\n",
       "      <td>Lefteris NIKOLAOU-ALAVANOS</td>\n",
       "    </tr>\n",
       "    <tr>\n",
       "      <th>649</th>\n",
       "      <td>Papadakis Kostas</td>\n",
       "      <td>NI</td>\n",
       "      <td>0</td>\n",
       "      <td>Kostas PAPADAKIS</td>\n",
       "    </tr>\n",
       "    <tr>\n",
       "      <th>650</th>\n",
       "      <td>Radačovský</td>\n",
       "      <td>NI</td>\n",
       "      <td>0</td>\n",
       "      <td>Miroslav RADAČOVSKÝ</td>\n",
       "    </tr>\n",
       "    <tr>\n",
       "      <th>651</th>\n",
       "      <td>Sinčić</td>\n",
       "      <td>NI</td>\n",
       "      <td>0</td>\n",
       "      <td>Ivan Vilibor SINČIĆ</td>\n",
       "    </tr>\n",
       "    <tr>\n",
       "      <th>652</th>\n",
       "      <td>Uhrík</td>\n",
       "      <td>NI</td>\n",
       "      <td>0</td>\n",
       "      <td>Milan UHRÍK</td>\n",
       "    </tr>\n",
       "  </tbody>\n",
       "</table>\n",
       "<p>653 rows × 4 columns</p>\n",
       "</div>"
      ],
      "text/plain": [
       "                   name group vote                     full_name\n",
       "0               Aguilar   ECR    +                Mazaly AGUILAR\n",
       "1                Bielan   ECR    +                   Adam BIELAN\n",
       "2            Brudziński   ECR    +  Joachim Stanisław BRUDZIŃSKI\n",
       "3       Buxadé Villalba   ECR    +         Jorge BUXADÉ VILLALBA\n",
       "4    Ďuriš Nicholsonová   ECR    +      Lucia ĎURIŠ NICHOLSONOVÁ\n",
       "..                  ...   ...  ...                           ...\n",
       "648   Nikolaou-Alavanos    NI    0    Lefteris NIKOLAOU-ALAVANOS\n",
       "649    Papadakis Kostas    NI    0              Kostas PAPADAKIS\n",
       "650          Radačovský    NI    0           Miroslav RADAČOVSKÝ\n",
       "651              Sinčić    NI    0           Ivan Vilibor SINČIĆ\n",
       "652               Uhrík    NI    0                   Milan UHRÍK\n",
       "\n",
       "[653 rows x 4 columns]"
      ]
     },
     "metadata": {},
     "output_type": "display_data"
    }
   ],
   "source": [
    "print(\"ORIGINAL VOTES\")\n",
    "df_votes = extract_original_votes(original_votes)\n",
    "display(df_votes)\n",
    "\n",
    "if corrected_votes is not None:\n",
    "  print(\"\\n\\n\", \"CORRECTIONS TO VOTES AND VOTING INTENTIONS\")\n",
    "  df_corrected_votes = extract_corrected_votes(corrected_votes)\n",
    "  display(df_corrected_votes)\n",
    "\n",
    "  print(\"\\n\\n\", \"UPDATED VOTES\")\n",
    "  df_updated_votes = correct_votes(df_votes, df_corrected_votes)\n",
    "  display(df_updated_votes)"
   ]
  },
  {
   "cell_type": "code",
   "execution_count": null,
   "metadata": {
    "pycharm": {
     "name": "#%%\n"
    }
   },
   "outputs": [],
   "source": []
  },
  {
   "cell_type": "code",
   "execution_count": null,
   "metadata": {
    "colab": {
     "base_uri": "https://localhost:8080/",
     "height": 162
    },
    "id": "2Q0l0CvcXfia",
    "outputId": "7d39e1b5-8ad5-4cbe-d433-b399526356c6",
    "pycharm": {
     "name": "#%%\n"
    }
   },
   "outputs": [
    {
     "data": {
      "text/html": [
       "\n",
       "  <div id=\"df-a20f872b-2bd4-4853-bc0c-9b6aeb53ea71\" class=\"colab-df-container\">\n",
       "    <div>\n",
       "<style scoped>\n",
       "    .dataframe tbody tr th:only-of-type {\n",
       "        vertical-align: middle;\n",
       "    }\n",
       "\n",
       "    .dataframe tbody tr th {\n",
       "        vertical-align: top;\n",
       "    }\n",
       "\n",
       "    .dataframe thead th {\n",
       "        text-align: right;\n",
       "    }\n",
       "</style>\n",
       "<table border=\"1\" class=\"dataframe\">\n",
       "  <thead>\n",
       "    <tr style=\"text-align: right;\">\n",
       "      <th></th>\n",
       "      <th>name</th>\n",
       "      <th>group</th>\n",
       "      <th>vote</th>\n",
       "      <th>full_name</th>\n",
       "    </tr>\n",
       "  </thead>\n",
       "  <tbody>\n",
       "    <tr>\n",
       "      <th>78</th>\n",
       "      <td>Polčák</td>\n",
       "      <td>PPE</td>\n",
       "      <td>+</td>\n",
       "      <td>Stanislav POLČÁK</td>\n",
       "    </tr>\n",
       "  </tbody>\n",
       "</table>\n",
       "</div>\n",
       "    <div class=\"colab-df-buttons\">\n",
       "\n",
       "  <div class=\"colab-df-container\">\n",
       "    <button class=\"colab-df-convert\" onclick=\"convertToInteractive('df-a20f872b-2bd4-4853-bc0c-9b6aeb53ea71')\"\n",
       "            title=\"Convert this dataframe to an interactive table.\"\n",
       "            style=\"display:none;\">\n",
       "\n",
       "  <svg xmlns=\"http://www.w3.org/2000/svg\" height=\"24px\" viewBox=\"0 -960 960 960\">\n",
       "    <path d=\"M120-120v-720h720v720H120Zm60-500h600v-160H180v160Zm220 220h160v-160H400v160Zm0 220h160v-160H400v160ZM180-400h160v-160H180v160Zm440 0h160v-160H620v160ZM180-180h160v-160H180v160Zm440 0h160v-160H620v160Z\"/>\n",
       "  </svg>\n",
       "    </button>\n",
       "\n",
       "  <style>\n",
       "    .colab-df-container {\n",
       "      display:flex;\n",
       "      gap: 12px;\n",
       "    }\n",
       "\n",
       "    .colab-df-convert {\n",
       "      background-color: #E8F0FE;\n",
       "      border: none;\n",
       "      border-radius: 50%;\n",
       "      cursor: pointer;\n",
       "      display: none;\n",
       "      fill: #1967D2;\n",
       "      height: 32px;\n",
       "      padding: 0 0 0 0;\n",
       "      width: 32px;\n",
       "    }\n",
       "\n",
       "    .colab-df-convert:hover {\n",
       "      background-color: #E2EBFA;\n",
       "      box-shadow: 0px 1px 2px rgba(60, 64, 67, 0.3), 0px 1px 3px 1px rgba(60, 64, 67, 0.15);\n",
       "      fill: #174EA6;\n",
       "    }\n",
       "\n",
       "    .colab-df-buttons div {\n",
       "      margin-bottom: 4px;\n",
       "    }\n",
       "\n",
       "    [theme=dark] .colab-df-convert {\n",
       "      background-color: #3B4455;\n",
       "      fill: #D2E3FC;\n",
       "    }\n",
       "\n",
       "    [theme=dark] .colab-df-convert:hover {\n",
       "      background-color: #434B5C;\n",
       "      box-shadow: 0px 1px 3px 1px rgba(0, 0, 0, 0.15);\n",
       "      filter: drop-shadow(0px 1px 2px rgba(0, 0, 0, 0.3));\n",
       "      fill: #FFFFFF;\n",
       "    }\n",
       "  </style>\n",
       "\n",
       "    <script>\n",
       "      const buttonEl =\n",
       "        document.querySelector('#df-a20f872b-2bd4-4853-bc0c-9b6aeb53ea71 button.colab-df-convert');\n",
       "      buttonEl.style.display =\n",
       "        google.colab.kernel.accessAllowed ? 'block' : 'none';\n",
       "\n",
       "      async function convertToInteractive(key) {\n",
       "        const element = document.querySelector('#df-a20f872b-2bd4-4853-bc0c-9b6aeb53ea71');\n",
       "        const dataTable =\n",
       "          await google.colab.kernel.invokeFunction('convertToInteractive',\n",
       "                                                    [key], {});\n",
       "        if (!dataTable) return;\n",
       "\n",
       "        const docLinkHtml = 'Like what you see? Visit the ' +\n",
       "          '<a target=\"_blank\" href=https://colab.research.google.com/notebooks/data_table.ipynb>data table notebook</a>'\n",
       "          + ' to learn more about interactive tables.';\n",
       "        element.innerHTML = '';\n",
       "        dataTable['output_type'] = 'display_data';\n",
       "        await google.colab.output.renderOutput(dataTable, element);\n",
       "        const docLink = document.createElement('div');\n",
       "        docLink.innerHTML = docLinkHtml;\n",
       "        element.appendChild(docLink);\n",
       "      }\n",
       "    </script>\n",
       "  </div>\n",
       "\n",
       "    </div>\n",
       "  </div>\n"
      ],
      "text/plain": [
       "      name group vote         full_name\n",
       "78  Polčák   PPE    +  Stanislav POLČÁK"
      ]
     },
     "metadata": {},
     "output_type": "display_data"
    },
    {
     "name": "stdout",
     "output_type": "stream",
     "text": [
      "\n"
     ]
    },
    {
     "data": {
      "text/html": [
       "\n",
       "  <div id=\"df-1270d4c2-cbb4-47e9-85c5-6e83c7ff6d7d\" class=\"colab-df-container\">\n",
       "    <div>\n",
       "<style scoped>\n",
       "    .dataframe tbody tr th:only-of-type {\n",
       "        vertical-align: middle;\n",
       "    }\n",
       "\n",
       "    .dataframe tbody tr th {\n",
       "        vertical-align: top;\n",
       "    }\n",
       "\n",
       "    .dataframe thead th {\n",
       "        text-align: right;\n",
       "    }\n",
       "</style>\n",
       "<table border=\"1\" class=\"dataframe\">\n",
       "  <thead>\n",
       "    <tr style=\"text-align: right;\">\n",
       "      <th></th>\n",
       "      <th>name</th>\n",
       "      <th>group</th>\n",
       "      <th>vote</th>\n",
       "      <th>full_name</th>\n",
       "    </tr>\n",
       "  </thead>\n",
       "  <tbody>\n",
       "    <tr>\n",
       "      <th>178</th>\n",
       "      <td>Polčák</td>\n",
       "      <td>PPE</td>\n",
       "      <td>-</td>\n",
       "      <td>Stanislav POLČÁK</td>\n",
       "    </tr>\n",
       "  </tbody>\n",
       "</table>\n",
       "</div>\n",
       "    <div class=\"colab-df-buttons\">\n",
       "\n",
       "  <div class=\"colab-df-container\">\n",
       "    <button class=\"colab-df-convert\" onclick=\"convertToInteractive('df-1270d4c2-cbb4-47e9-85c5-6e83c7ff6d7d')\"\n",
       "            title=\"Convert this dataframe to an interactive table.\"\n",
       "            style=\"display:none;\">\n",
       "\n",
       "  <svg xmlns=\"http://www.w3.org/2000/svg\" height=\"24px\" viewBox=\"0 -960 960 960\">\n",
       "    <path d=\"M120-120v-720h720v720H120Zm60-500h600v-160H180v160Zm220 220h160v-160H400v160Zm0 220h160v-160H400v160ZM180-400h160v-160H180v160Zm440 0h160v-160H620v160ZM180-180h160v-160H180v160Zm440 0h160v-160H620v160Z\"/>\n",
       "  </svg>\n",
       "    </button>\n",
       "\n",
       "  <style>\n",
       "    .colab-df-container {\n",
       "      display:flex;\n",
       "      gap: 12px;\n",
       "    }\n",
       "\n",
       "    .colab-df-convert {\n",
       "      background-color: #E8F0FE;\n",
       "      border: none;\n",
       "      border-radius: 50%;\n",
       "      cursor: pointer;\n",
       "      display: none;\n",
       "      fill: #1967D2;\n",
       "      height: 32px;\n",
       "      padding: 0 0 0 0;\n",
       "      width: 32px;\n",
       "    }\n",
       "\n",
       "    .colab-df-convert:hover {\n",
       "      background-color: #E2EBFA;\n",
       "      box-shadow: 0px 1px 2px rgba(60, 64, 67, 0.3), 0px 1px 3px 1px rgba(60, 64, 67, 0.15);\n",
       "      fill: #174EA6;\n",
       "    }\n",
       "\n",
       "    .colab-df-buttons div {\n",
       "      margin-bottom: 4px;\n",
       "    }\n",
       "\n",
       "    [theme=dark] .colab-df-convert {\n",
       "      background-color: #3B4455;\n",
       "      fill: #D2E3FC;\n",
       "    }\n",
       "\n",
       "    [theme=dark] .colab-df-convert:hover {\n",
       "      background-color: #434B5C;\n",
       "      box-shadow: 0px 1px 3px 1px rgba(0, 0, 0, 0.15);\n",
       "      filter: drop-shadow(0px 1px 2px rgba(0, 0, 0, 0.3));\n",
       "      fill: #FFFFFF;\n",
       "    }\n",
       "  </style>\n",
       "\n",
       "    <script>\n",
       "      const buttonEl =\n",
       "        document.querySelector('#df-1270d4c2-cbb4-47e9-85c5-6e83c7ff6d7d button.colab-df-convert');\n",
       "      buttonEl.style.display =\n",
       "        google.colab.kernel.accessAllowed ? 'block' : 'none';\n",
       "\n",
       "      async function convertToInteractive(key) {\n",
       "        const element = document.querySelector('#df-1270d4c2-cbb4-47e9-85c5-6e83c7ff6d7d');\n",
       "        const dataTable =\n",
       "          await google.colab.kernel.invokeFunction('convertToInteractive',\n",
       "                                                    [key], {});\n",
       "        if (!dataTable) return;\n",
       "\n",
       "        const docLinkHtml = 'Like what you see? Visit the ' +\n",
       "          '<a target=\"_blank\" href=https://colab.research.google.com/notebooks/data_table.ipynb>data table notebook</a>'\n",
       "          + ' to learn more about interactive tables.';\n",
       "        element.innerHTML = '';\n",
       "        dataTable['output_type'] = 'display_data';\n",
       "        await google.colab.output.renderOutput(dataTable, element);\n",
       "        const docLink = document.createElement('div');\n",
       "        docLink.innerHTML = docLinkHtml;\n",
       "        element.appendChild(docLink);\n",
       "      }\n",
       "    </script>\n",
       "  </div>\n",
       "\n",
       "    </div>\n",
       "  </div>\n"
      ],
      "text/plain": [
       "       name group vote         full_name\n",
       "178  Polčák   PPE    -  Stanislav POLČÁK"
      ]
     },
     "metadata": {},
     "output_type": "display_data"
    }
   ],
   "source": [
    "full_name = 'Stanislav POLČÁK'\n",
    "display(df_votes.loc[df_votes.full_name == full_name])\n",
    "print()\n",
    "display(df_updated_votes.loc[df_updated_votes.full_name == full_name])"
   ]
  },
  {
   "cell_type": "code",
   "execution_count": null,
   "metadata": {
    "id": "VcuCRxeLSpB8",
    "pycharm": {
     "name": "#%%\n"
    }
   },
   "outputs": [],
   "source": []
  }
 ],
 "metadata": {
  "colab": {
   "provenance": []
  },
  "kernelspec": {
   "display_name": "Python 3",
   "name": "python3"
  },
  "language_info": {
   "codemirror_mode": {
    "name": "ipython",
    "version": 3
   },
   "file_extension": ".py",
   "mimetype": "text/x-python",
   "name": "python",
   "nbconvert_exporter": "python",
   "pygments_lexer": "ipython3",
   "version": "3.10.13"
  }
 },
 "nbformat": 4,
 "nbformat_minor": 0
}